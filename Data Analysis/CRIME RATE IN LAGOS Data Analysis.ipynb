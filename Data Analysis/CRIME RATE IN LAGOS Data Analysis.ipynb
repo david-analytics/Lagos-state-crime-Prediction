{
 "cells": [
  {
   "cell_type": "code",
   "execution_count": 1,
   "id": "01acac0d",
   "metadata": {},
   "outputs": [],
   "source": [
    "# importing libraries\n",
    "\n",
    "import pandas as pd\n",
    "import numpy as np\n",
    "import matplotlib.pyplot as plt\n",
    "from datetime import datetime\n",
    "import seaborn as sns"
   ]
  },
  {
   "cell_type": "code",
   "execution_count": 2,
   "id": "a5683e99",
   "metadata": {},
   "outputs": [
    {
     "data": {
      "text/html": [
       "<div>\n",
       "<style scoped>\n",
       "    .dataframe tbody tr th:only-of-type {\n",
       "        vertical-align: middle;\n",
       "    }\n",
       "\n",
       "    .dataframe tbody tr th {\n",
       "        vertical-align: top;\n",
       "    }\n",
       "\n",
       "    .dataframe thead th {\n",
       "        text-align: right;\n",
       "    }\n",
       "</style>\n",
       "<table border=\"1\" class=\"dataframe\">\n",
       "  <thead>\n",
       "    <tr style=\"text-align: right;\">\n",
       "      <th></th>\n",
       "      <th>Dates</th>\n",
       "      <th>Times</th>\n",
       "      <th>Crime_types</th>\n",
       "      <th>Locations</th>\n",
       "      <th>LCDAs</th>\n",
       "      <th>population</th>\n",
       "    </tr>\n",
       "  </thead>\n",
       "  <tbody>\n",
       "    <tr>\n",
       "      <th>0</th>\n",
       "      <td>11/18/2019</td>\n",
       "      <td>2:50:00</td>\n",
       "      <td>Fire Outbreak</td>\n",
       "      <td>Sala Street</td>\n",
       "      <td>Isolo</td>\n",
       "      <td>4814647.0</td>\n",
       "    </tr>\n",
       "    <tr>\n",
       "      <th>1</th>\n",
       "      <td>11/18/2019</td>\n",
       "      <td>2:55:00</td>\n",
       "      <td>Robbery</td>\n",
       "      <td>21 Maiyaki street, Isokoko</td>\n",
       "      <td>Agege</td>\n",
       "      <td>4383983.0</td>\n",
       "    </tr>\n",
       "    <tr>\n",
       "      <th>2</th>\n",
       "      <td>11/18/2019</td>\n",
       "      <td>3:00:00</td>\n",
       "      <td>Robbery</td>\n",
       "      <td>43 Oduduwa Street. Iyana Oworo</td>\n",
       "      <td>Kosofe</td>\n",
       "      <td>3996193.0</td>\n",
       "    </tr>\n",
       "    <tr>\n",
       "      <th>3</th>\n",
       "      <td>11/18/2019</td>\n",
       "      <td>3:50:00</td>\n",
       "      <td>Robbery</td>\n",
       "      <td>Opewale Street</td>\n",
       "      <td>Agege</td>\n",
       "      <td>4383983.0</td>\n",
       "    </tr>\n",
       "    <tr>\n",
       "      <th>4</th>\n",
       "      <td>11/18/2019</td>\n",
       "      <td>21:45:00</td>\n",
       "      <td>Robbery</td>\n",
       "      <td>Suliaman Street, Agunji</td>\n",
       "      <td>Eti-Osa East</td>\n",
       "      <td>4173713.0</td>\n",
       "    </tr>\n",
       "    <tr>\n",
       "      <th>5</th>\n",
       "      <td>11/18/2019</td>\n",
       "      <td>20:55:00</td>\n",
       "      <td>Accident</td>\n",
       "      <td>Ijora bridge</td>\n",
       "      <td>Apapa</td>\n",
       "      <td>2216825.0</td>\n",
       "    </tr>\n",
       "    <tr>\n",
       "      <th>6</th>\n",
       "      <td>11/19/2019</td>\n",
       "      <td>5:05:00</td>\n",
       "      <td>Fire Outbreak</td>\n",
       "      <td>16 Baale Street Ajao Estate</td>\n",
       "      <td>Oshodi</td>\n",
       "      <td>4814647.0</td>\n",
       "    </tr>\n",
       "    <tr>\n",
       "      <th>7</th>\n",
       "      <td>11/19/2019</td>\n",
       "      <td>5:25:00</td>\n",
       "      <td>Robbery</td>\n",
       "      <td>Olawole Street, VI</td>\n",
       "      <td>Eti-Osa East</td>\n",
       "      <td>4173713.0</td>\n",
       "    </tr>\n",
       "    <tr>\n",
       "      <th>8</th>\n",
       "      <td>11/19/2019</td>\n",
       "      <td>5:30:00</td>\n",
       "      <td>Accident</td>\n",
       "      <td>Alaro city</td>\n",
       "      <td>Lekki</td>\n",
       "      <td>422415.0</td>\n",
       "    </tr>\n",
       "    <tr>\n",
       "      <th>9</th>\n",
       "      <td>11/19/2019</td>\n",
       "      <td>10:20:00</td>\n",
       "      <td>Accident</td>\n",
       "      <td>Ojodu Berger</td>\n",
       "      <td>Ojodu Berger</td>\n",
       "      <td>2752953.0</td>\n",
       "    </tr>\n",
       "  </tbody>\n",
       "</table>\n",
       "</div>"
      ],
      "text/plain": [
       "        Dates     Times    Crime_types                       Locations  \\\n",
       "0  11/18/2019   2:50:00  Fire Outbreak                     Sala Street   \n",
       "1  11/18/2019   2:55:00        Robbery      21 Maiyaki street, Isokoko   \n",
       "2  11/18/2019   3:00:00        Robbery  43 Oduduwa Street. Iyana Oworo   \n",
       "3  11/18/2019   3:50:00        Robbery                  Opewale Street   \n",
       "4  11/18/2019  21:45:00        Robbery         Suliaman Street, Agunji   \n",
       "5  11/18/2019  20:55:00       Accident                    Ijora bridge   \n",
       "6  11/19/2019   5:05:00  Fire Outbreak     16 Baale Street Ajao Estate   \n",
       "7  11/19/2019   5:25:00        Robbery              Olawole Street, VI   \n",
       "8  11/19/2019   5:30:00       Accident                      Alaro city   \n",
       "9  11/19/2019  10:20:00       Accident                    Ojodu Berger   \n",
       "\n",
       "          LCDAs  population  \n",
       "0         Isolo   4814647.0  \n",
       "1         Agege   4383983.0  \n",
       "2        Kosofe   3996193.0  \n",
       "3         Agege   4383983.0  \n",
       "4  Eti-Osa East   4173713.0  \n",
       "5         Apapa   2216825.0  \n",
       "6        Oshodi   4814647.0  \n",
       "7  Eti-Osa East   4173713.0  \n",
       "8         Lekki    422415.0  \n",
       "9  Ojodu Berger   2752953.0  "
      ]
     },
     "execution_count": 2,
     "metadata": {},
     "output_type": "execute_result"
    }
   ],
   "source": [
    "crime = pd.read_csv('RRS crime Data.csv')\n",
    "crime.head(10)"
   ]
  },
  {
   "cell_type": "code",
   "execution_count": null,
   "id": "11cad0c4",
   "metadata": {},
   "outputs": [],
   "source": []
  },
  {
   "cell_type": "code",
   "execution_count": 3,
   "id": "af62a847",
   "metadata": {},
   "outputs": [
    {
     "name": "stdout",
     "output_type": "stream",
     "text": [
      "<class 'pandas.core.frame.DataFrame'>\n",
      "RangeIndex: 1428 entries, 0 to 1427\n",
      "Data columns (total 6 columns):\n",
      " #   Column       Non-Null Count  Dtype  \n",
      "---  ------       --------------  -----  \n",
      " 0   Dates        1428 non-null   object \n",
      " 1   Times        1420 non-null   object \n",
      " 2   Crime_types  1428 non-null   object \n",
      " 3   Locations    1395 non-null   object \n",
      " 4   LCDAs        1389 non-null   object \n",
      " 5   population   1392 non-null   float64\n",
      "dtypes: float64(1), object(5)\n",
      "memory usage: 67.1+ KB\n"
     ]
    }
   ],
   "source": [
    "crime.info()"
   ]
  },
  {
   "cell_type": "code",
   "execution_count": 4,
   "id": "cee54bb6",
   "metadata": {},
   "outputs": [
    {
     "data": {
      "text/plain": [
       "Dates           0\n",
       "Times           8\n",
       "Crime_types     0\n",
       "Locations      33\n",
       "LCDAs          39\n",
       "population     36\n",
       "dtype: int64"
      ]
     },
     "execution_count": 4,
     "metadata": {},
     "output_type": "execute_result"
    }
   ],
   "source": [
    "# missing values\n",
    "crime.isna().sum()"
   ]
  },
  {
   "cell_type": "code",
   "execution_count": 5,
   "id": "9b8bdf72",
   "metadata": {},
   "outputs": [
    {
     "data": {
      "text/html": [
       "<div>\n",
       "<style scoped>\n",
       "    .dataframe tbody tr th:only-of-type {\n",
       "        vertical-align: middle;\n",
       "    }\n",
       "\n",
       "    .dataframe tbody tr th {\n",
       "        vertical-align: top;\n",
       "    }\n",
       "\n",
       "    .dataframe thead th {\n",
       "        text-align: right;\n",
       "    }\n",
       "</style>\n",
       "<table border=\"1\" class=\"dataframe\">\n",
       "  <thead>\n",
       "    <tr style=\"text-align: right;\">\n",
       "      <th></th>\n",
       "      <th>Features</th>\n",
       "      <th>cardinality</th>\n",
       "    </tr>\n",
       "  </thead>\n",
       "  <tbody>\n",
       "    <tr>\n",
       "      <th>0</th>\n",
       "      <td>Dates</td>\n",
       "      <td>600</td>\n",
       "    </tr>\n",
       "    <tr>\n",
       "      <th>1</th>\n",
       "      <td>Times</td>\n",
       "      <td>555</td>\n",
       "    </tr>\n",
       "    <tr>\n",
       "      <th>2</th>\n",
       "      <td>Crime_types</td>\n",
       "      <td>10</td>\n",
       "    </tr>\n",
       "    <tr>\n",
       "      <th>3</th>\n",
       "      <td>Locations</td>\n",
       "      <td>1331</td>\n",
       "    </tr>\n",
       "    <tr>\n",
       "      <th>4</th>\n",
       "      <td>LCDAs</td>\n",
       "      <td>42</td>\n",
       "    </tr>\n",
       "    <tr>\n",
       "      <th>5</th>\n",
       "      <td>population</td>\n",
       "      <td>22</td>\n",
       "    </tr>\n",
       "  </tbody>\n",
       "</table>\n",
       "</div>"
      ],
      "text/plain": [
       "      Features  cardinality\n",
       "0        Dates          600\n",
       "1        Times          555\n",
       "2  Crime_types           10\n",
       "3    Locations         1331\n",
       "4        LCDAs           42\n",
       "5   population           22"
      ]
     },
     "execution_count": 5,
     "metadata": {},
     "output_type": "execute_result"
    }
   ],
   "source": [
    "# data cardinality\n",
    "\n",
    "lis3=[]\n",
    "for i in crime:\n",
    "    lis3.append(crime[str(i)].nunique())\n",
    "\n",
    "cardinal=pd.DataFrame(lis3,crime.columns).reset_index()\n",
    "cardinal=cardinal.rename(columns={'index':'Features',0:'cardinality'})\n",
    "\n",
    "cardinal"
   ]
  },
  {
   "cell_type": "code",
   "execution_count": 6,
   "id": "93589772",
   "metadata": {},
   "outputs": [
    {
     "data": {
      "text/html": [
       "<div>\n",
       "<style scoped>\n",
       "    .dataframe tbody tr th:only-of-type {\n",
       "        vertical-align: middle;\n",
       "    }\n",
       "\n",
       "    .dataframe tbody tr th {\n",
       "        vertical-align: top;\n",
       "    }\n",
       "\n",
       "    .dataframe thead th {\n",
       "        text-align: right;\n",
       "    }\n",
       "</style>\n",
       "<table border=\"1\" class=\"dataframe\">\n",
       "  <thead>\n",
       "    <tr style=\"text-align: right;\">\n",
       "      <th></th>\n",
       "      <th>count</th>\n",
       "      <th>mean</th>\n",
       "      <th>std</th>\n",
       "      <th>min</th>\n",
       "      <th>25%</th>\n",
       "      <th>50%</th>\n",
       "      <th>75%</th>\n",
       "      <th>max</th>\n",
       "    </tr>\n",
       "  </thead>\n",
       "  <tbody>\n",
       "    <tr>\n",
       "      <th>population</th>\n",
       "      <td>1392.0</td>\n",
       "      <td>4.543722e+06</td>\n",
       "      <td>2.152264e+06</td>\n",
       "      <td>422415.0</td>\n",
       "      <td>2924079.0</td>\n",
       "      <td>3996193.0</td>\n",
       "      <td>5407971.0</td>\n",
       "      <td>8686902.0</td>\n",
       "    </tr>\n",
       "  </tbody>\n",
       "</table>\n",
       "</div>"
      ],
      "text/plain": [
       "             count          mean           std       min        25%  \\\n",
       "population  1392.0  4.543722e+06  2.152264e+06  422415.0  2924079.0   \n",
       "\n",
       "                  50%        75%        max  \n",
       "population  3996193.0  5407971.0  8686902.0  "
      ]
     },
     "execution_count": 6,
     "metadata": {},
     "output_type": "execute_result"
    }
   ],
   "source": [
    "crime.describe().T"
   ]
  },
  {
   "cell_type": "code",
   "execution_count": 7,
   "id": "c338705b",
   "metadata": {},
   "outputs": [],
   "source": [
    "# Dealing with Missing Values"
   ]
  },
  {
   "cell_type": "code",
   "execution_count": null,
   "id": "f13c7df8",
   "metadata": {},
   "outputs": [],
   "source": []
  },
  {
   "cell_type": "markdown",
   "id": "465bbed9",
   "metadata": {},
   "source": [
    "# Exploratory Data Analysis (EDA) and Feature Engineering "
   ]
  },
  {
   "cell_type": "markdown",
   "id": "e2131e74",
   "metadata": {},
   "source": [
    "Extracting feature from Time and Dates column to create new column to the datasets to gain more insight and to have robost data."
   ]
  },
  {
   "cell_type": "code",
   "execution_count": 8,
   "id": "cc2e14c5",
   "metadata": {},
   "outputs": [],
   "source": [
    "# creating function to extract time of the day in the data\n",
    "\n",
    "def categorize_time_of_day(crime,Times):\n",
    "    # Convert time column to datetime format\n",
    "    crime['Times'] = pd.to_datetime(crime['Times'])\n",
    "\n",
    "    # Define time of day categories\n",
    "    times_of_day = {\n",
    "        'Morning': range(6, 12),\n",
    "        'Afternoon': range(12, 17),\n",
    "        'Evening': range(18, 23),\n",
    "        'Midnight': range(0, 5)\n",
    "    }\n",
    "\n",
    "    # Create a new column with the time of day category for each row\n",
    "    crime['Time of Day'] = pd.cut(crime[Times].dt.hour, bins=[0, 6, 12, 18, 24], labels=['Midnight', 'Morning', 'Afternoon', 'Evening'])\n",
    "\n",
    "    # Extract time portion from datetime format\n",
    "    crime[Times] = crime[Times].dt.time\n",
    "    \n",
    "    return crime\n",
    "\n",
    "crime = categorize_time_of_day(crime, 'Times')\n"
   ]
  },
  {
   "cell_type": "code",
   "execution_count": 9,
   "id": "83c2f730",
   "metadata": {
    "scrolled": false
   },
   "outputs": [
    {
     "data": {
      "text/html": [
       "<div>\n",
       "<style scoped>\n",
       "    .dataframe tbody tr th:only-of-type {\n",
       "        vertical-align: middle;\n",
       "    }\n",
       "\n",
       "    .dataframe tbody tr th {\n",
       "        vertical-align: top;\n",
       "    }\n",
       "\n",
       "    .dataframe thead th {\n",
       "        text-align: right;\n",
       "    }\n",
       "</style>\n",
       "<table border=\"1\" class=\"dataframe\">\n",
       "  <thead>\n",
       "    <tr style=\"text-align: right;\">\n",
       "      <th></th>\n",
       "      <th>Dates</th>\n",
       "      <th>Times</th>\n",
       "      <th>Crime_types</th>\n",
       "      <th>Locations</th>\n",
       "      <th>LCDAs</th>\n",
       "      <th>population</th>\n",
       "      <th>Time of Day</th>\n",
       "    </tr>\n",
       "  </thead>\n",
       "  <tbody>\n",
       "    <tr>\n",
       "      <th>0</th>\n",
       "      <td>11/18/2019</td>\n",
       "      <td>02:50:00</td>\n",
       "      <td>Fire Outbreak</td>\n",
       "      <td>Sala Street</td>\n",
       "      <td>Isolo</td>\n",
       "      <td>4814647.0</td>\n",
       "      <td>Midnight</td>\n",
       "    </tr>\n",
       "    <tr>\n",
       "      <th>1</th>\n",
       "      <td>11/18/2019</td>\n",
       "      <td>02:55:00</td>\n",
       "      <td>Robbery</td>\n",
       "      <td>21 Maiyaki street, Isokoko</td>\n",
       "      <td>Agege</td>\n",
       "      <td>4383983.0</td>\n",
       "      <td>Midnight</td>\n",
       "    </tr>\n",
       "    <tr>\n",
       "      <th>2</th>\n",
       "      <td>11/18/2019</td>\n",
       "      <td>03:00:00</td>\n",
       "      <td>Robbery</td>\n",
       "      <td>43 Oduduwa Street. Iyana Oworo</td>\n",
       "      <td>Kosofe</td>\n",
       "      <td>3996193.0</td>\n",
       "      <td>Midnight</td>\n",
       "    </tr>\n",
       "    <tr>\n",
       "      <th>3</th>\n",
       "      <td>11/18/2019</td>\n",
       "      <td>03:50:00</td>\n",
       "      <td>Robbery</td>\n",
       "      <td>Opewale Street</td>\n",
       "      <td>Agege</td>\n",
       "      <td>4383983.0</td>\n",
       "      <td>Midnight</td>\n",
       "    </tr>\n",
       "    <tr>\n",
       "      <th>4</th>\n",
       "      <td>11/18/2019</td>\n",
       "      <td>21:45:00</td>\n",
       "      <td>Robbery</td>\n",
       "      <td>Suliaman Street, Agunji</td>\n",
       "      <td>Eti-Osa East</td>\n",
       "      <td>4173713.0</td>\n",
       "      <td>Evening</td>\n",
       "    </tr>\n",
       "  </tbody>\n",
       "</table>\n",
       "</div>"
      ],
      "text/plain": [
       "        Dates     Times    Crime_types                       Locations  \\\n",
       "0  11/18/2019  02:50:00  Fire Outbreak                     Sala Street   \n",
       "1  11/18/2019  02:55:00        Robbery      21 Maiyaki street, Isokoko   \n",
       "2  11/18/2019  03:00:00        Robbery  43 Oduduwa Street. Iyana Oworo   \n",
       "3  11/18/2019  03:50:00        Robbery                  Opewale Street   \n",
       "4  11/18/2019  21:45:00        Robbery         Suliaman Street, Agunji   \n",
       "\n",
       "          LCDAs  population Time of Day  \n",
       "0         Isolo   4814647.0    Midnight  \n",
       "1         Agege   4383983.0    Midnight  \n",
       "2        Kosofe   3996193.0    Midnight  \n",
       "3         Agege   4383983.0    Midnight  \n",
       "4  Eti-Osa East   4173713.0     Evening  "
      ]
     },
     "execution_count": 9,
     "metadata": {},
     "output_type": "execute_result"
    }
   ],
   "source": [
    "crime.head()"
   ]
  },
  {
   "cell_type": "code",
   "execution_count": 10,
   "id": "f6baa0e4",
   "metadata": {},
   "outputs": [],
   "source": [
    "#convert date column to datetime\n",
    "\n",
    "crime['Dates']=pd.to_datetime(crime['Dates'])\n",
    "\n",
    "# Extract\n",
    "\n",
    "crime['day']=crime['Dates'].dt.day_name()\n",
    "crime['Month']=crime['Dates'].dt.month_name()\n",
    "crime['year']=crime['Dates'].dt.year\n",
    "crime['day_of_week']=crime['Dates'].dt.dayofweek\n",
    "crime['quarter'] = crime['Dates'].dt.quarter\n",
    "\n"
   ]
  },
  {
   "cell_type": "markdown",
   "id": "641677d1",
   "metadata": {},
   "source": [
    "Extract season by creating  function that maps the month to the corresponding season"
   ]
  },
  {
   "cell_type": "code",
   "execution_count": 11,
   "id": "0864ea9d",
   "metadata": {},
   "outputs": [],
   "source": [
    "def get_season(month):\n",
    "    if month in [11, 12, 1, 2, 3]:\n",
    "        return 'dry season'\n",
    "    elif month in [4,5,6,7,8,9,10]:\n",
    "        return 'raining season'\n",
    "\n",
    "crime['season'] = crime['Dates'].dt.month.apply(get_season)"
   ]
  },
  {
   "cell_type": "markdown",
   "id": "0b83980a",
   "metadata": {},
   "source": [
    "Create  dictionary of Nigerian holidays from 2019 - 2022 and use it to create a new column indicating whether a particular date is a holiday or not"
   ]
  },
  {
   "cell_type": "code",
   "execution_count": 12,
   "id": "d9c19511",
   "metadata": {},
   "outputs": [],
   "source": [
    "import datetime\n",
    "\n",
    "nigeria_holidays = {\n",
    "    datetime.date(2019, 12, 25): \"Christmas Day\",\n",
    "    datetime.date(2019, 12, 26): \"Boxing Day\",\n",
    "    \n",
    "    datetime.date(2020, 1, 1): \"New Year Day\",\n",
    "    datetime.date(2020, 4, 10): \"Good Friday\",\n",
    "    datetime.date(2020, 4, 13): \"Easter Monday\",\n",
    "    datetime.date(2020, 5, 1): \"Workers' Day\",\n",
    "    datetime.date(2020, 5, 25): \"Id el Fitr holiday\",\n",
    "    datetime.date(2020, 5, 26): \"Id el Fitr holiday\",\n",
    "    datetime.date(2020, 6, 12): \"Democracy Day\",\n",
    "    datetime.date(2020, 7, 30): \"Id el Kabir additional holiday\",\n",
    "    datetime.date(2020, 7, 31): \"Id el Kabir\",\n",
    "    datetime.date(2020, 10, 1): \"National Day\",\n",
    "    datetime.date(2020, 10, 29): \"Id el Maulud\",\n",
    "    datetime.date(2020, 12, 25): \"Christmas Day\",\n",
    "    datetime.date(2020, 12, 26): \"Boxing Day\",\n",
    "    \n",
    "    datetime.date(2021, 1, 1): \"New Year Day\",\n",
    "    datetime.date(2021, 4, 2): \"Good Friday\",\n",
    "    datetime.date(2021, 4, 5): \"Easter Monday\",\n",
    "    datetime.date(2021, 5, 1): \"Workers' Day\",\n",
    "    datetime.date(2021, 5, 3): \"Day off for Workers Day\",\n",
    "    datetime.date(2021, 5, 12): \"Id el Fitr holiday\",\n",
    "    datetime.date(2021, 5, 13): \"Id el Fitr holiday\",\n",
    "    datetime.date(2021, 6, 12): \"Democracy Day\",\n",
    "    datetime.date(2021, 6, 14): \"Day off for Democracy Day\",\n",
    "    datetime.date(2021, 7, 20): \"Id el Kabir\",\n",
    "    datetime.date(2021, 7, 21): \"Id el Kabir additional holiday\",\n",
    "    datetime.date(2021, 10, 1): \"National Day\",\n",
    "    datetime.date(2021, 10, 19): \"Id el Maulud\",\n",
    "    datetime.date(2021, 12, 25): \"Christmas Day\",\n",
    "    datetime.date(2021, 12, 26): \"Boxing Day\",\n",
    "    datetime.date(2021, 12, 27): \"Day off for Christmas Day\",\n",
    "    datetime.date(2021, 12, 28): \"Day off for Boxing Day\",\n",
    "    \n",
    "    datetime.date(2022, 1, 1): \"New Year Day\",\n",
    "    datetime.date(2022, 4, 15): \"Good Friday\",\n",
    "    datetime.date(2022, 4, 18): \"Easter Monday\",\n",
    "    datetime.date(2022, 5, 1): \"Workers' Day\",\n",
    "    datetime.date(2022, 5, 2): \"Day off for Workers Day\",\n",
    "    datetime.date(2022, 5, 2): \"Id el Fitr holiday\",\n",
    "    datetime.date(2022, 5, 3): \"Id el Fitr holiday\",\n",
    "    datetime.date(2022, 6, 12): \"Democracy Day\",\n",
    "    datetime.date(2022, 6, 13): \"Day off for Democracy Day\",\n",
    "    datetime.date(2022, 7, 9): \"Id el Kabir\",\n",
    "    datetime.date(2022, 7, 11): \"Id el Kabir additional holiday\",\n",
    "    datetime.date(2022, 7, 12): \"Id el Kabir additional holiday\",\n",
    "    datetime.date(2022, 10, 1): \"National Day\",\n",
    "    datetime.date(2022, 10, 3): \"Day off for National Day\",\n",
    "    datetime.date(2022, 10, 8): \"Id el Maulud\",\n",
    "    datetime.date(2022, 10, 10): \"Id el Kabir additional holiday\",\n",
    "    datetime.date(2022, 10, 11): \"Id el Kabir additional holiday\",\n",
    "    datetime.date(2022, 12, 25): \"Christmas Day\",\n",
    "    datetime.date(2022, 12, 26): \"Boxing Day\",\n",
    "    datetime.date(2022, 12, 27): \"Day off for Christmas Day\",\n",
    "}\n",
    "\n",
    "def is_holiday(date):\n",
    "    return date in nigeria_holidays\n",
    "\n",
    "crime['IsHoliday'] = crime['Dates'].apply(lambda x: is_holiday(x.date()))\n"
   ]
  },
  {
   "cell_type": "code",
   "execution_count": 13,
   "id": "e22ab5ad",
   "metadata": {},
   "outputs": [],
   "source": [
    "crime['Times'] = pd.to_datetime(crime['Times'], format='%H:%M:%S')\n",
    " # Extract time portion from datetime format\n",
    "crime['Times'] = crime['Times'].dt.time"
   ]
  },
  {
   "cell_type": "markdown",
   "id": "5a9dc507",
   "metadata": {},
   "source": [
    "# Advance EDA with Pandas Profiling"
   ]
  },
  {
   "cell_type": "code",
   "execution_count": 14,
   "id": "0b6d6f0e",
   "metadata": {
    "scrolled": false
   },
   "outputs": [],
   "source": [
    "#Pandas Profiling for Descriptive Analysis\n",
    "from pandas_profiling import ProfileReport\n",
    "data = ProfileReport(crime)\n",
    "data"
   ]
  },
  {
   "cell_type": "code",
   "execution_count": 15,
   "id": "074abc61",
   "metadata": {},
   "outputs": [],
   "source": [
    "#Save Profile Repot as HTML file\n",
    "\n",
    "data.to_file('crime_report.html')"
   ]
  },
  {
   "cell_type": "code",
   "execution_count": 16,
   "id": "b87cf8d9",
   "metadata": {},
   "outputs": [],
   "source": [
    "#Save Dataset for further Analysis\n",
    "\n",
    "crime.to_csv('nue_crime_data.csv', index=False)"
   ]
  },
  {
   "cell_type": "code",
   "execution_count": 17,
   "id": "76cd3892",
   "metadata": {},
   "outputs": [
    {
     "name": "stdout",
     "output_type": "stream",
     "text": [
      "<class 'pandas.core.frame.DataFrame'>\n",
      "RangeIndex: 1428 entries, 0 to 1427\n",
      "Data columns (total 14 columns):\n",
      " #   Column       Non-Null Count  Dtype         \n",
      "---  ------       --------------  -----         \n",
      " 0   Dates        1428 non-null   datetime64[ns]\n",
      " 1   Times        1420 non-null   object        \n",
      " 2   Crime_types  1428 non-null   object        \n",
      " 3   Locations    1395 non-null   object        \n",
      " 4   LCDAs        1389 non-null   object        \n",
      " 5   population   1392 non-null   float64       \n",
      " 6   Time of Day  1337 non-null   category      \n",
      " 7   day          1428 non-null   object        \n",
      " 8   Month        1428 non-null   object        \n",
      " 9   year         1428 non-null   int64         \n",
      " 10  day_of_week  1428 non-null   int64         \n",
      " 11  quarter      1428 non-null   int64         \n",
      " 12  season       1428 non-null   object        \n",
      " 13  IsHoliday    1428 non-null   bool          \n",
      "dtypes: bool(1), category(1), datetime64[ns](1), float64(1), int64(3), object(7)\n",
      "memory usage: 137.0+ KB\n"
     ]
    }
   ],
   "source": [
    "crime.info()"
   ]
  },
  {
   "cell_type": "markdown",
   "id": "602de606",
   "metadata": {},
   "source": [
    "# Dealing with missing Values"
   ]
  },
  {
   "cell_type": "code",
   "execution_count": 18,
   "id": "dcf130f0",
   "metadata": {},
   "outputs": [],
   "source": [
    "# Use spline interpolation to fill missing values in the 'Times' column\n",
    "    \n",
    "crime['Time of Day'] = crime['Time of Day'].fillna('Midnight')\n",
    "\n",
    "crime['Times'] = crime['Times'].interpolate(method='nearest')\n",
    "\n",
    "crime = crime.dropna(subset=['LCDAs'])\n",
    "crime = crime.dropna(subset=['Locations'])\n",
    "crime = crime.dropna(subset=['Times'])\n",
    "\n"
   ]
  },
  {
   "cell_type": "code",
   "execution_count": 19,
   "id": "3f46fd0c",
   "metadata": {},
   "outputs": [
    {
     "data": {
      "text/plain": [
       "Dates          0\n",
       "Times          0\n",
       "Crime_types    0\n",
       "Locations      0\n",
       "LCDAs          0\n",
       "population     0\n",
       "Time of Day    0\n",
       "day            0\n",
       "Month          0\n",
       "year           0\n",
       "day_of_week    0\n",
       "quarter        0\n",
       "season         0\n",
       "IsHoliday      0\n",
       "dtype: int64"
      ]
     },
     "execution_count": 19,
     "metadata": {},
     "output_type": "execute_result"
    }
   ],
   "source": [
    "crime.isna().sum()"
   ]
  },
  {
   "cell_type": "code",
   "execution_count": null,
   "id": "d4331e7c",
   "metadata": {},
   "outputs": [],
   "source": []
  },
  {
   "cell_type": "markdown",
   "id": "4e7f49de",
   "metadata": {},
   "source": [
    "# Crime Data Analysis"
   ]
  },
  {
   "cell_type": "code",
   "execution_count": 25,
   "id": "95ba5c3d",
   "metadata": {
    "scrolled": false
   },
   "outputs": [
    {
     "data": {
      "image/png": "[encoded data removed]",
      "text/plain": [
       "<Figure size 864x576 with 2 Axes>"
      ]
     },
     "metadata": {},
     "output_type": "display_data"
    }
   ],
   "source": [
    "pd.set_option('display.max_rows', None)\n",
    "pd.set_option('display.max_columns', None)\n",
    "crime['LCDAs'] = crime['LCDAs'].astype('category')\n",
    "\n",
    "# aggregate data by month and location\n",
    "\n",
    "crime_agg = crime.groupby(['Month', 'LCDAs'])['Crime_types'].count().reset_index()\n",
    "crime_pivot = crime_agg.pivot('Month', 'LCDAs', 'Crime_types')\n",
    "\n",
    "# create heatmap\n",
    "sns.set(font_scale=1.2)\n",
    "plt.figure(figsize=(12, 8))\n",
    "sns.heatmap(crime_pivot, cmap='YlGnBu', annot=True, fmt=\"d\", linewidths=.5, cbar_kws={'label': 'Number of Crimes'})\n",
    "plt.title('Crime Heatmap by Month and LCDAs')\n",
    "plt.xlabel('LCDAs')\n",
    "plt.ylabel('Month')\n",
    "plt.show()\n"
   ]
  },
  {
   "cell_type": "code",
   "execution_count": 20,
   "id": "19053f1e",
   "metadata": {
    "scrolled": false
   },
   "outputs": [
    {
     "data": {
      "image/png": "[encoded data removed]",
      "text/plain": [
       "<Figure size 864x576 with 1 Axes>"
      ]
     },
     "metadata": {},
     "output_type": "display_data"
    }
   ],
   "source": [
    "# Group the dataset by \"Primary Type\" and count the number of crimes\n",
    "crime_count = crime.groupby(\"Crime_types\")[\"Crime_types\"].count().reset_index(name=\"count\")\n",
    "crime_count = crime_count.sort_values(\"count\", ascending=False)\n",
    "\n",
    "# Create a horizontal bar chart\n",
    "sns.set(style=\"whitegrid\")\n",
    "plt.figure(figsize=(12, 8))\n",
    "ax = sns.barplot(x=\"count\", y=\"Crime_types\", data=crime_count, color=\"b\")\n",
    "ax.set_xlabel(\"Number of Crimes\", fontsize=14)\n",
    "ax.set_ylabel(\"Crime Type\", fontsize=14)\n",
    "ax.set_title(\"Number of Crimes by Type\", fontsize=16)\n",
    "plt.show()\n"
   ]
  },
  {
   "cell_type": "code",
   "execution_count": 21,
   "id": "22916306",
   "metadata": {
    "scrolled": false
   },
   "outputs": [
    {
     "data": {
      "image/png": "[encoded data removed]",
      "text/plain": [
       "<Figure size 720x576 with 1 Axes>"
      ]
     },
     "metadata": {},
     "output_type": "display_data"
    }
   ],
   "source": [
    "# Use value_counts to get the number of crimes\n",
    "\n",
    "num_crimes = crime['Crime_types'].value_counts()\n",
    "\n",
    "# Use groupby to get the number of crimes by category and time label\n",
    "num_crimes_by_time = crime.groupby(['Crime_types', 'Time of Day']).size().unstack(fill_value=0)\n",
    "\n",
    "# Create a horizontal bar chart of crime categories and time labels\n",
    "sns.set(style=\"whitegrid\")\n",
    "num_crimes_by_time.plot(kind='barh', stacked=True, figsize=(10, 8))\n",
    "plt.xlabel('Number of Crimes')\n",
    "plt.ylabel('Crime Type')\n",
    "plt.title('Number of Crimes by Category and Time Label')\n",
    "\n",
    "plt.show()\n"
   ]
  },
  {
   "cell_type": "code",
   "execution_count": null,
   "id": "b3c6804d",
   "metadata": {
    "scrolled": false
   },
   "outputs": [],
   "source": [
    "# Group the data by season and crime type\n",
    "num_crimes_season = crime.groupby(['Crime_types','season']).size().unstack(fill_value=0)\n",
    "\n",
    "# Create a horizontal bar chart of crime categories and season labels\n",
    "sns.set(style=\"whitegrid\")\n",
    "num_crimes_season.plot(kind='barh', stacked=True, figsize=(10, 8))\n",
    "plt.xlabel('Number of Crimes')\n",
    "plt.ylabel('Crime Type')\n",
    "plt.title('Number of Crimes by Category and Season')\n",
    "\n",
    "plt.show()\n"
   ]
  },
  {
   "cell_type": "code",
   "execution_count": null,
   "id": "86d188d2",
   "metadata": {
    "scrolled": false
   },
   "outputs": [],
   "source": [
    "# Group the data by holiday status and crime category\n",
    "\n",
    "grouped_data = crime.groupby(['Crime_types','IsHoliday']).size().unstack(fill_value=0)\n",
    "\n",
    "# Plot the results\n",
    "sns.set(style=\"whitegrid\")\n",
    "grouped_data.plot(kind='bar', stacked=True, figsize=(10, 8))\n",
    "plt.xlabel('Holiday Status')\n",
    "plt.ylabel('Number of Crimes')\n",
    "plt.title('Number of Crimes by Holiday Status and Category')\n",
    "\n",
    "# Show the chart\n",
    "plt.show()"
   ]
  },
  {
   "cell_type": "code",
   "execution_count": null,
   "id": "aa8167db",
   "metadata": {},
   "outputs": [],
   "source": []
  },
  {
   "cell_type": "code",
   "execution_count": null,
   "id": "99726e00",
   "metadata": {},
   "outputs": [],
   "source": [
    "# Create a histogram to check distribution of Crime Type\n",
    "\n",
    "crime['Crime_types'] = crime['Crime_types'].astype(str)\n",
    "plt.xticks(rotation=90)\n",
    "\n",
    "# group the data by crime type, and count the number of incidents\n",
    "num_crimes = crime['Crime_types'].value_counts()\n",
    "\n",
    "plt.hist(crime['Crime_types'], bins=20)\n",
    "plt.xlabel('Crime_count')\n",
    "plt.ylabel('Frequency')\n",
    "plt.title('Distribution of Crime Count')\n",
    "plt.show()\n"
   ]
  },
  {
   "cell_type": "code",
   "execution_count": null,
   "id": "b1846208",
   "metadata": {},
   "outputs": [],
   "source": [
    "sns.displot(data=crime, x='Crime_types', binwidth=1, height=5, aspect=3)\n",
    "plt.xticks(rotation=90)\n",
    "\n",
    "# Add plot and axis titles\n",
    "plt.title('Distribution of Crime Types')\n",
    "plt.xlabel('Crime Type')\n",
    "plt.ylabel('Count')\n",
    "\n",
    "plt.show()"
   ]
  },
  {
   "cell_type": "code",
   "execution_count": null,
   "id": "9e4366ff",
   "metadata": {},
   "outputs": [],
   "source": [
    "#convert Object Data to Category\n",
    "\n",
    "crime['Crime_types'] = crime['Crime_types'].astype('category')\n",
    "crime['Month']=crime['Month'].astype('category')\n",
    "crime['season']=crime['season'].astype('category')\n",
    "crime['population']=crime['population'].astype(int)"
   ]
  },
  {
   "cell_type": "code",
   "execution_count": null,
   "id": "b4f155e4",
   "metadata": {},
   "outputs": [],
   "source": [
    "#encode categorical variable\n",
    "\n",
    "from sklearn.preprocessing import LabelEncoder\n",
    "for i in ['Crime_types', 'Time of Day', 'Month', 'season', 'IsHoliday']:\n",
    "  encoder = LabelEncoder()\n",
    "  crime[str(i)] = encoder.fit_transform(crime[str(i)])\n",
    "    \n",
    "#Drop duplicate column\n",
    "\n",
    "crime.drop(['day'], axis=1, inplace= True)"
   ]
  },
  {
   "cell_type": "code",
   "execution_count": null,
   "id": "506cb2dc",
   "metadata": {},
   "outputs": [],
   "source": []
  },
  {
   "cell_type": "code",
   "execution_count": null,
   "id": "6ddc0c15",
   "metadata": {},
   "outputs": [],
   "source": []
  },
  {
   "cell_type": "code",
   "execution_count": null,
   "id": "0ba32559",
   "metadata": {},
   "outputs": [],
   "source": [
    "crime['LCDAs'] = crime['LCDAs'].map(crime['LCDAs'].value_counts().to_dict())\n",
    "crime['Locations'] = crime['Locations'].map(crime['Locations'].value_counts().to_dict())\n",
    "\n"
   ]
  },
  {
   "cell_type": "code",
   "execution_count": null,
   "id": "02760dc9",
   "metadata": {},
   "outputs": [],
   "source": [
    "crime.Crime_types.plot(kind='density')"
   ]
  },
  {
   "cell_type": "code",
   "execution_count": null,
   "id": "a8086856",
   "metadata": {},
   "outputs": [],
   "source": [
    "crime.Crime_types.plot(kind='density')"
   ]
  },
  {
   "cell_type": "code",
   "execution_count": null,
   "id": "83b5b884",
   "metadata": {
    "scrolled": true
   },
   "outputs": [],
   "source": [
    "sns.displot(data=crime, x='Crime_types', binwidth=1, height=5, aspect=3)\n",
    "plt.xticks(rotation=90)\n",
    "\n",
    "# Add plot and axis titles\n",
    "plt.title('Distribution of Crime Types')\n",
    "plt.xlabel('Crime Type')\n",
    "plt.ylabel('Count')\n",
    "\n",
    "plt.show()"
   ]
  },
  {
   "cell_type": "markdown",
   "id": "d30c2262",
   "metadata": {},
   "source": [
    "## Modelling"
   ]
  },
  {
   "cell_type": "code",
   "execution_count": null,
   "id": "51bfe698",
   "metadata": {},
   "outputs": [],
   "source": [
    "from sklearn.model_selection import train_test_split\n",
    "from sklearn.preprocessing import StandardScaler\n",
    "from collections import Counter\n",
    "from imblearn.over_sampling import SMOTE\n",
    "import warnings\n",
    "warnings.filterwarnings(\"ignore\")\n",
    "from xgboost import XGBClassifier"
   ]
  },
  {
   "cell_type": "markdown",
   "id": "b3851fd6",
   "metadata": {},
   "source": [
    "## What is SMOTE?\n",
    "SMOTE is an over-sampling method which means it adds more samples from under-represented classes. So basically it creates synthetic samples of the minority class."
   ]
  },
  {
   "cell_type": "code",
   "execution_count": null,
   "id": "64060b76",
   "metadata": {},
   "outputs": [],
   "source": []
  }
 ],
 "metadata": {
  "kernelspec": {
   "display_name": "Python 3 (ipykernel)",
   "language": "python",
   "name": "python3"
  },
  "language_info": {
   "codemirror_mode": {
    "name": "ipython",
    "version": 3
   },
   "file_extension": ".py",
   "mimetype": "text/x-python",
   "name": "python",
   "nbconvert_exporter": "python",
   "pygments_lexer": "ipython3",
   "version": "3.11.5"
  }
 },
 "nbformat": 4,
 "nbformat_minor": 5
}
