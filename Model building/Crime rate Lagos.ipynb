{
 "cells": [
  {
   "cell_type": "code",
   "execution_count": 1,
   "id": "d36ec1c9",
   "metadata": {},
   "outputs": [],
   "source": [
    "import pandas as pd\n",
    "import numpy as np"
   ]
  },
  {
   "cell_type": "code",
   "execution_count": 2,
   "id": "ed5f54a9",
   "metadata": {},
   "outputs": [
    {
     "data": {
      "text/html": [
       "<div>\n",
       "<style scoped>\n",
       "    .dataframe tbody tr th:only-of-type {\n",
       "        vertical-align: middle;\n",
       "    }\n",
       "\n",
       "    .dataframe tbody tr th {\n",
       "        vertical-align: top;\n",
       "    }\n",
       "\n",
       "    .dataframe thead th {\n",
       "        text-align: right;\n",
       "    }\n",
       "</style>\n",
       "<table border=\"1\" class=\"dataframe\">\n",
       "  <thead>\n",
       "    <tr style=\"text-align: right;\">\n",
       "      <th></th>\n",
       "      <th>Dates</th>\n",
       "      <th>Times</th>\n",
       "      <th>Crime_types</th>\n",
       "      <th>Locations</th>\n",
       "      <th>LCDAs</th>\n",
       "      <th>population</th>\n",
       "      <th>Time of Day</th>\n",
       "      <th>day</th>\n",
       "      <th>Month</th>\n",
       "      <th>year</th>\n",
       "      <th>day_of_week</th>\n",
       "      <th>quarter</th>\n",
       "      <th>season</th>\n",
       "      <th>IsHoliday</th>\n",
       "    </tr>\n",
       "  </thead>\n",
       "  <tbody>\n",
       "    <tr>\n",
       "      <th>0</th>\n",
       "      <td>2019-11-18</td>\n",
       "      <td>02:50:00</td>\n",
       "      <td>Fire Outbreak</td>\n",
       "      <td>Sala Street</td>\n",
       "      <td>Isolo</td>\n",
       "      <td>4814647</td>\n",
       "      <td>Midnight</td>\n",
       "      <td>Monday</td>\n",
       "      <td>November</td>\n",
       "      <td>2019</td>\n",
       "      <td>0</td>\n",
       "      <td>4</td>\n",
       "      <td>dry season</td>\n",
       "      <td>False</td>\n",
       "    </tr>\n",
       "    <tr>\n",
       "      <th>1</th>\n",
       "      <td>2019-11-18</td>\n",
       "      <td>02:55:00</td>\n",
       "      <td>Robbery</td>\n",
       "      <td>21 Maiyaki street, Isokoko</td>\n",
       "      <td>Agege</td>\n",
       "      <td>4383983</td>\n",
       "      <td>Midnight</td>\n",
       "      <td>Monday</td>\n",
       "      <td>November</td>\n",
       "      <td>2019</td>\n",
       "      <td>0</td>\n",
       "      <td>4</td>\n",
       "      <td>dry season</td>\n",
       "      <td>False</td>\n",
       "    </tr>\n",
       "    <tr>\n",
       "      <th>2</th>\n",
       "      <td>2019-11-18</td>\n",
       "      <td>03:00:00</td>\n",
       "      <td>Robbery</td>\n",
       "      <td>43 Oduduwa Street. Iyana Oworo</td>\n",
       "      <td>Kosofe</td>\n",
       "      <td>3996193</td>\n",
       "      <td>Midnight</td>\n",
       "      <td>Monday</td>\n",
       "      <td>November</td>\n",
       "      <td>2019</td>\n",
       "      <td>0</td>\n",
       "      <td>4</td>\n",
       "      <td>dry season</td>\n",
       "      <td>False</td>\n",
       "    </tr>\n",
       "    <tr>\n",
       "      <th>3</th>\n",
       "      <td>2019-11-18</td>\n",
       "      <td>03:50:00</td>\n",
       "      <td>Robbery</td>\n",
       "      <td>Opewale Street</td>\n",
       "      <td>Agege</td>\n",
       "      <td>4383983</td>\n",
       "      <td>Midnight</td>\n",
       "      <td>Monday</td>\n",
       "      <td>November</td>\n",
       "      <td>2019</td>\n",
       "      <td>0</td>\n",
       "      <td>4</td>\n",
       "      <td>dry season</td>\n",
       "      <td>False</td>\n",
       "    </tr>\n",
       "    <tr>\n",
       "      <th>4</th>\n",
       "      <td>2019-11-18</td>\n",
       "      <td>21:45:00</td>\n",
       "      <td>Robbery</td>\n",
       "      <td>Suliaman Street, Agunji</td>\n",
       "      <td>Eti-Osa East</td>\n",
       "      <td>4173713</td>\n",
       "      <td>Evening</td>\n",
       "      <td>Monday</td>\n",
       "      <td>November</td>\n",
       "      <td>2019</td>\n",
       "      <td>0</td>\n",
       "      <td>4</td>\n",
       "      <td>dry season</td>\n",
       "      <td>False</td>\n",
       "    </tr>\n",
       "  </tbody>\n",
       "</table>\n",
       "</div>"
      ],
      "text/plain": [
       "        Dates     Times    Crime_types                       Locations  \\\n",
       "0  2019-11-18  02:50:00  Fire Outbreak                     Sala Street   \n",
       "1  2019-11-18  02:55:00        Robbery      21 Maiyaki street, Isokoko   \n",
       "2  2019-11-18  03:00:00        Robbery  43 Oduduwa Street. Iyana Oworo   \n",
       "3  2019-11-18  03:50:00        Robbery                  Opewale Street   \n",
       "4  2019-11-18  21:45:00        Robbery         Suliaman Street, Agunji   \n",
       "\n",
       "          LCDAs  population Time of Day     day     Month  year  day_of_week  \\\n",
       "0         Isolo     4814647    Midnight  Monday  November  2019            0   \n",
       "1         Agege     4383983    Midnight  Monday  November  2019            0   \n",
       "2        Kosofe     3996193    Midnight  Monday  November  2019            0   \n",
       "3         Agege     4383983    Midnight  Monday  November  2019            0   \n",
       "4  Eti-Osa East     4173713     Evening  Monday  November  2019            0   \n",
       "\n",
       "   quarter      season  IsHoliday  \n",
       "0        4  dry season      False  \n",
       "1        4  dry season      False  \n",
       "2        4  dry season      False  \n",
       "3        4  dry season      False  \n",
       "4        4  dry season      False  "
      ]
     },
     "execution_count": 2,
     "metadata": {},
     "output_type": "execute_result"
    }
   ],
   "source": [
    "df=pd.read_csv('nue_crime_data.csv')\n",
    "train=pd.read_csv('train_data.csv')\n",
    "test=pd.read_csv('test_data.csv')\n",
    "train.head()"
   ]
  },
  {
   "cell_type": "code",
   "execution_count": 3,
   "id": "7817780f",
   "metadata": {},
   "outputs": [
    {
     "data": {
      "text/plain": [
       "<AxesSubplot:>"
      ]
     },
     "execution_count": 3,
     "metadata": {},
     "output_type": "execute_result"
    },
    {
     "data": {
      "image/png": "[encoded data removed]",
      "text/plain": [
       "<Figure size 432x288 with 1 Axes>"
      ]
     },
     "metadata": {
      "needs_background": "light"
     },
     "output_type": "display_data"
    }
   ],
   "source": [
    "df.Crime_types.value_counts().plot.barh()"
   ]
  },
  {
   "cell_type": "code",
   "execution_count": 4,
   "id": "0f5feb8f",
   "metadata": {},
   "outputs": [
    {
     "name": "stdout",
     "output_type": "stream",
     "text": [
      "<class 'pandas.core.frame.DataFrame'>\n",
      "RangeIndex: 1428 entries, 0 to 1427\n",
      "Data columns (total 14 columns):\n",
      " #   Column       Non-Null Count  Dtype  \n",
      "---  ------       --------------  -----  \n",
      " 0   Dates        1428 non-null   object \n",
      " 1   Times        1420 non-null   object \n",
      " 2   Crime_types  1428 non-null   object \n",
      " 3   Locations    1395 non-null   object \n",
      " 4   LCDAs        1389 non-null   object \n",
      " 5   population   1392 non-null   float64\n",
      " 6   Time of Day  1337 non-null   object \n",
      " 7   day          1428 non-null   object \n",
      " 8   Month        1428 non-null   object \n",
      " 9   year         1428 non-null   int64  \n",
      " 10  day_of_week  1428 non-null   int64  \n",
      " 11  quarter      1428 non-null   int64  \n",
      " 12  season       1428 non-null   object \n",
      " 13  IsHoliday    1428 non-null   bool   \n",
      "dtypes: bool(1), float64(1), int64(3), object(9)\n",
      "memory usage: 146.6+ KB\n"
     ]
    }
   ],
   "source": [
    "df.info()"
   ]
  },
  {
   "cell_type": "code",
   "execution_count": 5,
   "id": "1160d281",
   "metadata": {},
   "outputs": [
    {
     "name": "stdout",
     "output_type": "stream",
     "text": [
      "crime_df size is : (1428, 14)\n"
     ]
    }
   ],
   "source": [
    "# join train and test together\n",
    "ntrain = train.shape[0]\n",
    "ntest = test.shape[0]\n",
    "\n",
    "crime_df = pd.concat((train, test)).reset_index(drop=True)\n",
    "print(\"crime_df size is : {}\".format(crime_df.shape))"
   ]
  },
  {
   "cell_type": "code",
   "execution_count": 6,
   "id": "7a14ff40",
   "metadata": {},
   "outputs": [],
   "source": [
    "# Check for non-numeric values\n",
    "for col in df.columns:\n",
    "    if df[col].dtype == 'object':\n",
    "        if df[col].str.isnumeric().any() == False:\n",
    "            df = df[~df[col].isin(['NA', 'inf', '-inf'])]\n",
    "\n",
    "# Convert the column to an integer\n",
    "df['population'] = pd.to_numeric(df['population'], errors='coerce').fillna(0).astype(int)\n"
   ]
  },
  {
   "cell_type": "code",
   "execution_count": 7,
   "id": "02bad09d",
   "metadata": {},
   "outputs": [],
   "source": [
    "# Check for non-numeric values\n",
    "for col in df.columns:\n",
    "    if df[col].dtype == 'object':\n",
    "        if df[col].str.isnumeric().any() == False:\n",
    "            df = df[~df[col].isin(['NA', 'inf', '-inf'])]\n",
    "\n",
    "# Convert the column to an integer\n",
    "crime_df['population'] = pd.to_numeric(crime_df['population'], errors='coerce').fillna(0).astype(int)\n"
   ]
  },
  {
   "cell_type": "code",
   "execution_count": 8,
   "id": "94b3bc1c",
   "metadata": {},
   "outputs": [],
   "source": [
    "df['population']=df['population'].astype(int)\n",
    "\n",
    "crime_df['population']=crime_df['population'].astype(int)"
   ]
  },
  {
   "cell_type": "code",
   "execution_count": 9,
   "id": "4134eeb4",
   "metadata": {},
   "outputs": [
    {
     "data": {
      "image/png": "[encoded data removed]",
      "text/plain": [
       "<Figure size 864x360 with 1 Axes>"
      ]
     },
     "metadata": {
      "needs_background": "light"
     },
     "output_type": "display_data"
    }
   ],
   "source": [
    "import matplotlib.pyplot as plt\n",
    "import seaborn as sns\n",
    "from collections import Counter\n",
    "\n",
    "ax = plt.figure(figsize=(12,5))\n",
    "sns.countplot(x = 'Crime_types', data = crime_df, facecolor=(0, 0, 0, 0),\n",
    "                   linewidth=5,\n",
    "                   edgecolor=sns.color_palette(\"dark\", 9))\n",
    "plt.xlabel('Crime type')\n",
    "plt.ylabel('Count')\n",
    "plt.title('Distribution of different classes')\n",
    "plt.show()"
   ]
  },
  {
   "cell_type": "code",
   "execution_count": 12,
   "id": "8453bb4b",
   "metadata": {},
   "outputs": [
    {
     "data": {
      "text/plain": [
       "Index(['Dates', 'Times', 'Crime_types', 'Locations', 'LCDAs', 'population',\n",
       "       'Time of Day', 'day', 'Month', 'year', 'day_of_week', 'quarter',\n",
       "       'season', 'IsHoliday'],\n",
       "      dtype='object')"
      ]
     },
     "execution_count": 12,
     "metadata": {},
     "output_type": "execute_result"
    }
   ],
   "source": [
    "crime_df.columns"
   ]
  },
  {
   "cell_type": "code",
   "execution_count": 14,
   "id": "28f7fc92",
   "metadata": {},
   "outputs": [],
   "source": [
    "# Use spline interpolation to fill missing values in the 'Times' column\n",
    "    \n",
    "crime_df['Time of Day'] = crime_df['Time of Day'].fillna('Midnight')\n",
    "\n",
    "crime_df['Times'] = crime_df['Times'].interpolate(method='nearest')\n",
    "\n",
    "crime_df = crime_df.dropna(subset=['LCDAs'])\n",
    "crime_df = crime_df.dropna(subset=['Locations'])\n",
    "crime_df = crime_df.dropna(subset=['Times'])\n"
   ]
  },
  {
   "cell_type": "code",
   "execution_count": 15,
   "id": "bf02cda8",
   "metadata": {},
   "outputs": [
    {
     "name": "stdout",
     "output_type": "stream",
     "text": [
      "Are There still Missing value in data? : False\n",
      "Dates          0.0\n",
      "Times          0.0\n",
      "Crime_types    0.0\n",
      "Locations      0.0\n",
      "LCDAs          0.0\n",
      "population     0.0\n",
      "Time of Day    0.0\n",
      "day            0.0\n",
      "Month          0.0\n",
      "year           0.0\n",
      "day_of_week    0.0\n",
      "quarter        0.0\n",
      "season         0.0\n",
      "IsHoliday      0.0\n",
      "dtype: float64\n"
     ]
    }
   ],
   "source": [
    "print(\"Are There still Missing value in data? :\",crime_df.isnull().any().any())\n",
    "print((crime_df.isnull().sum()/crime_df.shape[0])*100)"
   ]
  },
  {
   "cell_type": "code",
   "execution_count": 16,
   "id": "47d1f041",
   "metadata": {},
   "outputs": [
    {
     "data": {
      "text/plain": [
       "Index(['Dates', 'Times', 'Crime_types', 'Locations', 'LCDAs', 'population',\n",
       "       'Time of Day', 'day', 'Month', 'year', 'day_of_week', 'quarter',\n",
       "       'season', 'IsHoliday'],\n",
       "      dtype='object')"
      ]
     },
     "execution_count": 16,
     "metadata": {},
     "output_type": "execute_result"
    }
   ],
   "source": [
    "crime_df.columns"
   ]
  },
  {
   "cell_type": "code",
   "execution_count": null,
   "id": "f28ea44a",
   "metadata": {},
   "outputs": [],
   "source": []
  },
  {
   "cell_type": "code",
   "execution_count": 18,
   "id": "604a42ae",
   "metadata": {},
   "outputs": [],
   "source": [
    "#Binary indicators for each crime type\n",
    "\n",
    "# Perform one-hot encoding on the 'crime_types' column\n",
    "encoded_crime_types = pd.get_dummies(crime_df['Crime_types'])\n",
    "\n",
    "# Merge the encoded crime types back into the original DataFrame\n",
    "crime_df = pd.concat([crime_df, encoded_crime_types], axis=1)\n"
   ]
  },
  {
   "cell_type": "code",
   "execution_count": 19,
   "id": "7dbb770b",
   "metadata": {},
   "outputs": [],
   "source": [
    "#encode categorical variable\n",
    "\n",
    "from sklearn.preprocessing import LabelEncoder\n",
    "for i in ['Time of Day', 'Month', 'season', 'IsHoliday']:\n",
    "  encoder = LabelEncoder()\n",
    "  crime_df[str(i)] = encoder.fit_transform(crime_df[str(i)])\n",
    "    \n",
    "#Drop duplicate column\n",
    "\n",
    "crime_df.drop(['day'], axis=1, inplace= True)"
   ]
  },
  {
   "cell_type": "code",
   "execution_count": 20,
   "id": "dc81b993",
   "metadata": {},
   "outputs": [],
   "source": [
    "crime_df['LCDAs'] = crime_df['LCDAs'].map(crime_df['LCDAs'].value_counts().to_dict())\n",
    "crime_df['Locations'] = crime_df['Locations'].map(crime_df['Locations'].value_counts().to_dict())\n",
    "crime_df['Times']=crime_df['Times'].map(crime_df['Times'].value_counts().to_dict())"
   ]
  },
  {
   "cell_type": "code",
   "execution_count": 21,
   "id": "f8b4f2c7",
   "metadata": {},
   "outputs": [
    {
     "name": "stdout",
     "output_type": "stream",
     "text": [
      "Class=Accident, n=327 (22.899%)\n",
      "Class=Fire Outbreak, n=318 (22.269%)\n",
      "Class=Robbery, n=274 (19.188%)\n",
      "Class=Other Offenses, n=182 (12.745%)\n",
      "Class=Fighting, n=140 (9.804%)\n",
      "Class=Cultist, n=81 (5.672%)\n",
      "Class=Collapsed Building, n=23 (1.611%)\n",
      "Class=Felony, n=15 (1.050%)\n",
      "Class=Suicide, n=12 (0.840%)\n",
      "Class=Domestic Violence, n=8 (0.560%)\n"
     ]
    }
   ],
   "source": [
    "counter = crime_df['Crime_types'].value_counts()\n",
    "for k,v in counter.items():\n",
    "    per = v / len(df['Crime_types']) * 100\n",
    "    print('Class=%s, n=%d (%.3f%%)' % (k, v, per))"
   ]
  },
  {
   "cell_type": "code",
   "execution_count": 22,
   "id": "5a6466cb",
   "metadata": {},
   "outputs": [],
   "source": [
    "le = LabelEncoder()"
   ]
  },
  {
   "cell_type": "code",
   "execution_count": 23,
   "id": "487a6669",
   "metadata": {},
   "outputs": [],
   "source": [
    "crime_df['Crime_types'] = le.fit_transform(crime_df['Crime_types'])"
   ]
  },
  {
   "cell_type": "code",
   "execution_count": 24,
   "id": "9d072aa5",
   "metadata": {
    "scrolled": true
   },
   "outputs": [
    {
     "data": {
      "text/html": [
       "<div>\n",
       "<style scoped>\n",
       "    .dataframe tbody tr th:only-of-type {\n",
       "        vertical-align: middle;\n",
       "    }\n",
       "\n",
       "    .dataframe tbody tr th {\n",
       "        vertical-align: top;\n",
       "    }\n",
       "\n",
       "    .dataframe thead th {\n",
       "        text-align: right;\n",
       "    }\n",
       "</style>\n",
       "<table border=\"1\" class=\"dataframe\">\n",
       "  <thead>\n",
       "    <tr style=\"text-align: right;\">\n",
       "      <th></th>\n",
       "      <th>Dates</th>\n",
       "      <th>Times</th>\n",
       "      <th>Crime_types</th>\n",
       "      <th>Locations</th>\n",
       "      <th>LCDAs</th>\n",
       "      <th>population</th>\n",
       "      <th>Time of Day</th>\n",
       "      <th>Month</th>\n",
       "      <th>year</th>\n",
       "      <th>day_of_week</th>\n",
       "      <th>...</th>\n",
       "      <th>Accident</th>\n",
       "      <th>Collapsed Building</th>\n",
       "      <th>Cultist</th>\n",
       "      <th>Domestic Violence</th>\n",
       "      <th>Felony</th>\n",
       "      <th>Fighting</th>\n",
       "      <th>Fire Outbreak</th>\n",
       "      <th>Other Offenses</th>\n",
       "      <th>Robbery</th>\n",
       "      <th>Suicide</th>\n",
       "    </tr>\n",
       "  </thead>\n",
       "  <tbody>\n",
       "    <tr>\n",
       "      <th>0</th>\n",
       "      <td>2019-11-18</td>\n",
       "      <td>5</td>\n",
       "      <td>6</td>\n",
       "      <td>1</td>\n",
       "      <td>22</td>\n",
       "      <td>4814647</td>\n",
       "      <td>2</td>\n",
       "      <td>9</td>\n",
       "      <td>2019</td>\n",
       "      <td>0</td>\n",
       "      <td>...</td>\n",
       "      <td>0</td>\n",
       "      <td>0</td>\n",
       "      <td>0</td>\n",
       "      <td>0</td>\n",
       "      <td>0</td>\n",
       "      <td>0</td>\n",
       "      <td>1</td>\n",
       "      <td>0</td>\n",
       "      <td>0</td>\n",
       "      <td>0</td>\n",
       "    </tr>\n",
       "    <tr>\n",
       "      <th>1</th>\n",
       "      <td>2019-11-18</td>\n",
       "      <td>6</td>\n",
       "      <td>8</td>\n",
       "      <td>1</td>\n",
       "      <td>71</td>\n",
       "      <td>4383983</td>\n",
       "      <td>2</td>\n",
       "      <td>9</td>\n",
       "      <td>2019</td>\n",
       "      <td>0</td>\n",
       "      <td>...</td>\n",
       "      <td>0</td>\n",
       "      <td>0</td>\n",
       "      <td>0</td>\n",
       "      <td>0</td>\n",
       "      <td>0</td>\n",
       "      <td>0</td>\n",
       "      <td>0</td>\n",
       "      <td>0</td>\n",
       "      <td>1</td>\n",
       "      <td>0</td>\n",
       "    </tr>\n",
       "    <tr>\n",
       "      <th>2</th>\n",
       "      <td>2019-11-18</td>\n",
       "      <td>5</td>\n",
       "      <td>8</td>\n",
       "      <td>1</td>\n",
       "      <td>125</td>\n",
       "      <td>3996193</td>\n",
       "      <td>2</td>\n",
       "      <td>9</td>\n",
       "      <td>2019</td>\n",
       "      <td>0</td>\n",
       "      <td>...</td>\n",
       "      <td>0</td>\n",
       "      <td>0</td>\n",
       "      <td>0</td>\n",
       "      <td>0</td>\n",
       "      <td>0</td>\n",
       "      <td>0</td>\n",
       "      <td>0</td>\n",
       "      <td>0</td>\n",
       "      <td>1</td>\n",
       "      <td>0</td>\n",
       "    </tr>\n",
       "    <tr>\n",
       "      <th>3</th>\n",
       "      <td>2019-11-18</td>\n",
       "      <td>10</td>\n",
       "      <td>8</td>\n",
       "      <td>1</td>\n",
       "      <td>71</td>\n",
       "      <td>4383983</td>\n",
       "      <td>2</td>\n",
       "      <td>9</td>\n",
       "      <td>2019</td>\n",
       "      <td>0</td>\n",
       "      <td>...</td>\n",
       "      <td>0</td>\n",
       "      <td>0</td>\n",
       "      <td>0</td>\n",
       "      <td>0</td>\n",
       "      <td>0</td>\n",
       "      <td>0</td>\n",
       "      <td>0</td>\n",
       "      <td>0</td>\n",
       "      <td>1</td>\n",
       "      <td>0</td>\n",
       "    </tr>\n",
       "    <tr>\n",
       "      <th>4</th>\n",
       "      <td>2019-11-18</td>\n",
       "      <td>5</td>\n",
       "      <td>8</td>\n",
       "      <td>1</td>\n",
       "      <td>69</td>\n",
       "      <td>4173713</td>\n",
       "      <td>1</td>\n",
       "      <td>9</td>\n",
       "      <td>2019</td>\n",
       "      <td>0</td>\n",
       "      <td>...</td>\n",
       "      <td>0</td>\n",
       "      <td>0</td>\n",
       "      <td>0</td>\n",
       "      <td>0</td>\n",
       "      <td>0</td>\n",
       "      <td>0</td>\n",
       "      <td>0</td>\n",
       "      <td>0</td>\n",
       "      <td>1</td>\n",
       "      <td>0</td>\n",
       "    </tr>\n",
       "  </tbody>\n",
       "</table>\n",
       "<p>5 rows × 24 columns</p>\n",
       "</div>"
      ],
      "text/plain": [
       "        Dates  Times  Crime_types  Locations  LCDAs  population  Time of Day  \\\n",
       "0  2019-11-18      5            6          1     22     4814647            2   \n",
       "1  2019-11-18      6            8          1     71     4383983            2   \n",
       "2  2019-11-18      5            8          1    125     3996193            2   \n",
       "3  2019-11-18     10            8          1     71     4383983            2   \n",
       "4  2019-11-18      5            8          1     69     4173713            1   \n",
       "\n",
       "   Month  year  day_of_week  ...  Accident  Collapsed Building  Cultist  \\\n",
       "0      9  2019            0  ...         0                   0        0   \n",
       "1      9  2019            0  ...         0                   0        0   \n",
       "2      9  2019            0  ...         0                   0        0   \n",
       "3      9  2019            0  ...         0                   0        0   \n",
       "4      9  2019            0  ...         0                   0        0   \n",
       "\n",
       "  Domestic Violence  Felony  Fighting  Fire Outbreak  Other Offenses  Robbery  \\\n",
       "0                 0       0         0              1               0        0   \n",
       "1                 0       0         0              0               0        1   \n",
       "2                 0       0         0              0               0        1   \n",
       "3                 0       0         0              0               0        1   \n",
       "4                 0       0         0              0               0        1   \n",
       "\n",
       "   Suicide  \n",
       "0        0  \n",
       "1        0  \n",
       "2        0  \n",
       "3        0  \n",
       "4        0  \n",
       "\n",
       "[5 rows x 24 columns]"
      ]
     },
     "execution_count": 24,
     "metadata": {},
     "output_type": "execute_result"
    }
   ],
   "source": [
    "crime_df.head()"
   ]
  },
  {
   "cell_type": "code",
   "execution_count": 26,
   "id": "c72c5c87",
   "metadata": {},
   "outputs": [],
   "source": [
    "#Save Dataset for further Analysis\n",
    "\n",
    "crime_df.to_csv('le_crime_data.csv', index=False)"
   ]
  },
  {
   "cell_type": "code",
   "execution_count": 25,
   "id": "55348aba",
   "metadata": {},
   "outputs": [
    {
     "data": {
      "text/plain": [
       "<AxesSubplot:ylabel='Density'>"
      ]
     },
     "execution_count": 25,
     "metadata": {},
     "output_type": "execute_result"
    },
    {
     "data": {
      "image/png": "[encoded data removed]",
      "text/plain": [
       "<Figure size 432x288 with 1 Axes>"
      ]
     },
     "metadata": {
      "needs_background": "light"
     },
     "output_type": "display_data"
    }
   ],
   "source": [
    "crime_df.Crime_types.plot(kind='density')"
   ]
  },
  {
   "cell_type": "code",
   "execution_count": null,
   "id": "11f8b193",
   "metadata": {},
   "outputs": [],
   "source": []
  },
  {
   "cell_type": "code",
   "execution_count": 26,
   "id": "cc07d324",
   "metadata": {
    "scrolled": true
   },
   "outputs": [
    {
     "data": {
      "text/plain": [
       "<AxesSubplot:>"
      ]
     },
     "execution_count": 26,
     "metadata": {},
     "output_type": "execute_result"
    },
    {
     "data": {
      "image/png": "[encoded data removed]",
      "text/plain": [
       "<Figure size 432x288 with 1 Axes>"
      ]
     },
     "metadata": {
      "needs_background": "light"
     },
     "output_type": "display_data"
    }
   ],
   "source": [
    "crime_df['Crime_types'].hist()\n",
    "\n",
    "crime_df['day_of_week'].hist()"
   ]
  },
  {
   "cell_type": "code",
   "execution_count": 27,
   "id": "f23c27ce",
   "metadata": {},
   "outputs": [
    {
     "name": "stdout",
     "output_type": "stream",
     "text": [
      "Sklearn label encoder results for different classes:\n",
      "{'Accident': 0, 'Collapsed Building': 1, 'Cultist': 2, 'Domestic Violence': 3, 'Felony': 4, 'Fighting': 5, 'Fire Outbreak': 6, 'Other Offenses': 7, 'Robbery': 8, 'Suicide': 9}\n"
     ]
    }
   ],
   "source": [
    "le_class = dict(zip(le.classes_, le.transform(le.classes_)))\n",
    "print(\"Sklearn label encoder results for different classes:\") \n",
    "print(le_class)"
   ]
  },
  {
   "cell_type": "code",
   "execution_count": 31,
   "id": "b34ba7a3",
   "metadata": {
    "scrolled": true
   },
   "outputs": [
    {
     "name": "stdout",
     "output_type": "stream",
     "text": [
      "Are There still Missing value in data? : True\n",
      "Dates                  0.000000\n",
      "Times                  0.000000\n",
      "Crime_types            0.000000\n",
      "Locations              0.000000\n",
      "LCDAs                  0.000000\n",
      "population             0.000000\n",
      "Time of Day            0.000000\n",
      "Month                  0.000000\n",
      "year                   0.000000\n",
      "day_of_week            0.000000\n",
      "quarter                0.000000\n",
      "season                 0.000000\n",
      "IsHoliday              0.000000\n",
      "crime_category        14.057971\n",
      "Accident               0.000000\n",
      "Collapsed Building     0.000000\n",
      "Cultist                0.000000\n",
      "Domestic Violence      0.000000\n",
      "Felony                 0.000000\n",
      "Fighting               0.000000\n",
      "Fire Outbreak          0.000000\n",
      "Other Offenses         0.000000\n",
      "Robbery                0.000000\n",
      "Suicide                0.000000\n",
      "dtype: float64\n"
     ]
    }
   ],
   "source": [
    "print(\"Are There still Missing value in data? :\",crime_df.isnull().any().any())\n",
    "print((crime_df.isnull().sum()/crime_df.shape[0])*100)"
   ]
  },
  {
   "cell_type": "code",
   "execution_count": 32,
   "id": "fea97122",
   "metadata": {},
   "outputs": [],
   "source": [
    "crime_df['crime_category'] = crime_df['crime_category'].interpolate(method='nearest')"
   ]
  },
  {
   "cell_type": "code",
   "execution_count": 33,
   "id": "e761dcc6",
   "metadata": {},
   "outputs": [],
   "source": [
    "for i in ['crime_category']:\n",
    "  encoder = LabelEncoder()\n",
    "  crime_df[str(i)] = encoder.fit_transform(crime_df[str(i)])"
   ]
  },
  {
   "cell_type": "code",
   "execution_count": 34,
   "id": "5773203c",
   "metadata": {},
   "outputs": [],
   "source": [
    "crime_df.drop(columns=['Dates', 'IsHoliday'],inplace=True)"
   ]
  },
  {
   "cell_type": "markdown",
   "id": "8375009d",
   "metadata": {},
   "source": [
    "#Get the new dataset\n",
    "train_n = crime_df[:ntrain].copy()\n",
    "test_n = crime_df[ntrain:].copy()"
   ]
  },
  {
   "cell_type": "markdown",
   "id": "ee888107",
   "metadata": {},
   "source": [
    "from sklearn.preprocessing import StandardScaler\n",
    "scaler = StandardScaler()\n",
    "df1 = pd.DataFrame(data= scaler.fit_transform(crime_df), columns=crime_df.columns)\n",
    "df1.isna().sum()"
   ]
  },
  {
   "cell_type": "code",
   "execution_count": null,
   "id": "6dd9262a",
   "metadata": {},
   "outputs": [],
   "source": []
  },
  {
   "cell_type": "code",
   "execution_count": null,
   "id": "9c39c694",
   "metadata": {},
   "outputs": [],
   "source": []
  },
  {
   "cell_type": "code",
   "execution_count": null,
   "id": "726ed911",
   "metadata": {},
   "outputs": [],
   "source": []
  },
  {
   "cell_type": "markdown",
   "id": "5c89f0dd",
   "metadata": {},
   "source": [
    "## SMOTE\n",
    "\n",
    "### Using SMOTE for Imbalance Target Varaible\n",
    "\n",
    "#### SMOTE is an over-sampling method which means it adds more samples from under-represented classes. So basically it creates synthetic samples of the minority class. "
   ]
  },
  {
   "cell_type": "code",
   "execution_count": null,
   "id": "a6f8671f",
   "metadata": {},
   "outputs": [],
   "source": []
  },
  {
   "cell_type": "code",
   "execution_count": 36,
   "id": "df021e9b",
   "metadata": {},
   "outputs": [],
   "source": [
    "from imblearn.over_sampling import SMOTE\n",
    "from sklearn.model_selection import StratifiedKFold, KFold, train_test_split\n",
    "import warnings\n",
    "warnings.filterwarnings(\"ignore\")"
   ]
  },
  {
   "cell_type": "code",
   "execution_count": null,
   "id": "637233e9",
   "metadata": {},
   "outputs": [],
   "source": []
  },
  {
   "cell_type": "code",
   "execution_count": 37,
   "id": "1bccab48",
   "metadata": {},
   "outputs": [],
   "source": [
    "X = crime_df.drop('Crime_types', axis = 1)\n",
    "y = crime_df['Crime_types']"
   ]
  },
  {
   "cell_type": "code",
   "execution_count": 38,
   "id": "e6a1edec",
   "metadata": {},
   "outputs": [],
   "source": [
    "#one-hot encoding the features\n",
    "X = pd.get_dummies(X)"
   ]
  },
  {
   "cell_type": "code",
   "execution_count": 39,
   "id": "279d71dd",
   "metadata": {},
   "outputs": [],
   "source": [
    "oversample = SMOTE()"
   ]
  },
  {
   "cell_type": "code",
   "execution_count": 40,
   "id": "62e8af31",
   "metadata": {},
   "outputs": [],
   "source": [
    "X, y = oversample.fit_resample(X, y)"
   ]
  },
  {
   "cell_type": "code",
   "execution_count": null,
   "id": "0d622a37",
   "metadata": {},
   "outputs": [],
   "source": []
  },
  {
   "cell_type": "code",
   "execution_count": 41,
   "id": "0fa15605",
   "metadata": {},
   "outputs": [
    {
     "name": "stdout",
     "output_type": "stream",
     "text": [
      "Class=6, n=327 (10.000%)\n",
      "Class=8, n=327 (10.000%)\n",
      "Class=0, n=327 (10.000%)\n",
      "Class=5, n=327 (10.000%)\n",
      "Class=7, n=327 (10.000%)\n",
      "Class=2, n=327 (10.000%)\n",
      "Class=4, n=327 (10.000%)\n",
      "Class=1, n=327 (10.000%)\n",
      "Class=9, n=327 (10.000%)\n",
      "Class=3, n=327 (10.000%)\n"
     ]
    },
    {
     "data": {
      "image/png": "[encoded data removed]",
      "text/plain": [
       "<Figure size 432x288 with 1 Axes>"
      ]
     },
     "metadata": {
      "needs_background": "light"
     },
     "output_type": "display_data"
    }
   ],
   "source": [
    "counter = Counter(y)\n",
    "for k,v in counter.items():\n",
    "    per = v / len(y) * 100\n",
    "    print('Class=%d, n=%d (%.3f%%)' % (k, v, per))\n",
    "# plot the distribution\n",
    "plt.bar(counter.keys(), counter.values())\n",
    "plt.show()"
   ]
  },
  {
   "cell_type": "code",
   "execution_count": null,
   "id": "35d743b8",
   "metadata": {},
   "outputs": [],
   "source": []
  },
  {
   "cell_type": "markdown",
   "id": "2810c9ee",
   "metadata": {},
   "source": [
    "## Model building"
   ]
  },
  {
   "cell_type": "code",
   "execution_count": 42,
   "id": "298e3371",
   "metadata": {},
   "outputs": [
    {
     "name": "stdout",
     "output_type": "stream",
     "text": [
      "(3270, 22)\n"
     ]
    }
   ],
   "source": [
    "df1 = pd.concat([X, y], axis=1, join='outer')\n",
    "print(df1.shape)"
   ]
  },
  {
   "cell_type": "code",
   "execution_count": 43,
   "id": "937314a3",
   "metadata": {},
   "outputs": [
    {
     "data": {
      "text/html": [
       "<div>\n",
       "<style scoped>\n",
       "    .dataframe tbody tr th:only-of-type {\n",
       "        vertical-align: middle;\n",
       "    }\n",
       "\n",
       "    .dataframe tbody tr th {\n",
       "        vertical-align: top;\n",
       "    }\n",
       "\n",
       "    .dataframe thead th {\n",
       "        text-align: right;\n",
       "    }\n",
       "</style>\n",
       "<table border=\"1\" class=\"dataframe\">\n",
       "  <thead>\n",
       "    <tr style=\"text-align: right;\">\n",
       "      <th></th>\n",
       "      <th>Times</th>\n",
       "      <th>Locations</th>\n",
       "      <th>LCDAs</th>\n",
       "      <th>population</th>\n",
       "      <th>Time of Day</th>\n",
       "      <th>Month</th>\n",
       "      <th>year</th>\n",
       "      <th>day_of_week</th>\n",
       "      <th>quarter</th>\n",
       "      <th>season</th>\n",
       "      <th>...</th>\n",
       "      <th>Collapsed Building</th>\n",
       "      <th>Cultist</th>\n",
       "      <th>Domestic Violence</th>\n",
       "      <th>Felony</th>\n",
       "      <th>Fighting</th>\n",
       "      <th>Fire Outbreak</th>\n",
       "      <th>Other Offenses</th>\n",
       "      <th>Robbery</th>\n",
       "      <th>Suicide</th>\n",
       "      <th>Crime_types</th>\n",
       "    </tr>\n",
       "  </thead>\n",
       "  <tbody>\n",
       "    <tr>\n",
       "      <th>0</th>\n",
       "      <td>5</td>\n",
       "      <td>1</td>\n",
       "      <td>22</td>\n",
       "      <td>4814647</td>\n",
       "      <td>2</td>\n",
       "      <td>9</td>\n",
       "      <td>2019</td>\n",
       "      <td>0</td>\n",
       "      <td>4</td>\n",
       "      <td>0</td>\n",
       "      <td>...</td>\n",
       "      <td>0</td>\n",
       "      <td>0</td>\n",
       "      <td>0</td>\n",
       "      <td>0</td>\n",
       "      <td>0</td>\n",
       "      <td>1</td>\n",
       "      <td>0</td>\n",
       "      <td>0</td>\n",
       "      <td>0</td>\n",
       "      <td>6</td>\n",
       "    </tr>\n",
       "    <tr>\n",
       "      <th>1</th>\n",
       "      <td>6</td>\n",
       "      <td>1</td>\n",
       "      <td>71</td>\n",
       "      <td>4383983</td>\n",
       "      <td>2</td>\n",
       "      <td>9</td>\n",
       "      <td>2019</td>\n",
       "      <td>0</td>\n",
       "      <td>4</td>\n",
       "      <td>0</td>\n",
       "      <td>...</td>\n",
       "      <td>0</td>\n",
       "      <td>0</td>\n",
       "      <td>0</td>\n",
       "      <td>0</td>\n",
       "      <td>0</td>\n",
       "      <td>0</td>\n",
       "      <td>0</td>\n",
       "      <td>1</td>\n",
       "      <td>0</td>\n",
       "      <td>8</td>\n",
       "    </tr>\n",
       "    <tr>\n",
       "      <th>2</th>\n",
       "      <td>5</td>\n",
       "      <td>1</td>\n",
       "      <td>125</td>\n",
       "      <td>3996193</td>\n",
       "      <td>2</td>\n",
       "      <td>9</td>\n",
       "      <td>2019</td>\n",
       "      <td>0</td>\n",
       "      <td>4</td>\n",
       "      <td>0</td>\n",
       "      <td>...</td>\n",
       "      <td>0</td>\n",
       "      <td>0</td>\n",
       "      <td>0</td>\n",
       "      <td>0</td>\n",
       "      <td>0</td>\n",
       "      <td>0</td>\n",
       "      <td>0</td>\n",
       "      <td>1</td>\n",
       "      <td>0</td>\n",
       "      <td>8</td>\n",
       "    </tr>\n",
       "    <tr>\n",
       "      <th>3</th>\n",
       "      <td>10</td>\n",
       "      <td>1</td>\n",
       "      <td>71</td>\n",
       "      <td>4383983</td>\n",
       "      <td>2</td>\n",
       "      <td>9</td>\n",
       "      <td>2019</td>\n",
       "      <td>0</td>\n",
       "      <td>4</td>\n",
       "      <td>0</td>\n",
       "      <td>...</td>\n",
       "      <td>0</td>\n",
       "      <td>0</td>\n",
       "      <td>0</td>\n",
       "      <td>0</td>\n",
       "      <td>0</td>\n",
       "      <td>0</td>\n",
       "      <td>0</td>\n",
       "      <td>1</td>\n",
       "      <td>0</td>\n",
       "      <td>8</td>\n",
       "    </tr>\n",
       "    <tr>\n",
       "      <th>4</th>\n",
       "      <td>5</td>\n",
       "      <td>1</td>\n",
       "      <td>69</td>\n",
       "      <td>4173713</td>\n",
       "      <td>1</td>\n",
       "      <td>9</td>\n",
       "      <td>2019</td>\n",
       "      <td>0</td>\n",
       "      <td>4</td>\n",
       "      <td>0</td>\n",
       "      <td>...</td>\n",
       "      <td>0</td>\n",
       "      <td>0</td>\n",
       "      <td>0</td>\n",
       "      <td>0</td>\n",
       "      <td>0</td>\n",
       "      <td>0</td>\n",
       "      <td>0</td>\n",
       "      <td>1</td>\n",
       "      <td>0</td>\n",
       "      <td>8</td>\n",
       "    </tr>\n",
       "  </tbody>\n",
       "</table>\n",
       "<p>5 rows × 22 columns</p>\n",
       "</div>"
      ],
      "text/plain": [
       "   Times  Locations  LCDAs  population  Time of Day  Month  year  day_of_week  \\\n",
       "0      5          1     22     4814647            2      9  2019            0   \n",
       "1      6          1     71     4383983            2      9  2019            0   \n",
       "2      5          1    125     3996193            2      9  2019            0   \n",
       "3     10          1     71     4383983            2      9  2019            0   \n",
       "4      5          1     69     4173713            1      9  2019            0   \n",
       "\n",
       "   quarter  season  ...  Collapsed Building  Cultist  Domestic Violence  \\\n",
       "0        4       0  ...                   0        0                  0   \n",
       "1        4       0  ...                   0        0                  0   \n",
       "2        4       0  ...                   0        0                  0   \n",
       "3        4       0  ...                   0        0                  0   \n",
       "4        4       0  ...                   0        0                  0   \n",
       "\n",
       "   Felony  Fighting  Fire Outbreak  Other Offenses  Robbery  Suicide  \\\n",
       "0       0         0              1               0        0        0   \n",
       "1       0         0              0               0        1        0   \n",
       "2       0         0              0               0        1        0   \n",
       "3       0         0              0               0        1        0   \n",
       "4       0         0              0               0        1        0   \n",
       "\n",
       "   Crime_types  \n",
       "0            6  \n",
       "1            8  \n",
       "2            8  \n",
       "3            8  \n",
       "4            8  \n",
       "\n",
       "[5 rows x 22 columns]"
      ]
     },
     "execution_count": 43,
     "metadata": {},
     "output_type": "execute_result"
    }
   ],
   "source": [
    "df1.head()"
   ]
  },
  {
   "cell_type": "code",
   "execution_count": null,
   "id": "09b99bca",
   "metadata": {},
   "outputs": [],
   "source": []
  },
  {
   "cell_type": "markdown",
   "id": "b77ebaf2",
   "metadata": {},
   "source": [
    "from sklearn.preprocessing import MinMaxScaler\n",
    "minmax = MinMaxScaler()\n",
    "df2 = pd.DataFrame(data= minmax.fit_transform(df1), columns=df1.columns)\n",
    "df2.isna().sum()"
   ]
  },
  {
   "cell_type": "code",
   "execution_count": 44,
   "id": "d9aa97ca",
   "metadata": {},
   "outputs": [
    {
     "name": "stdout",
     "output_type": "stream",
     "text": [
      "(3270, 21) (3270, 22)\n"
     ]
    }
   ],
   "source": [
    "train_df = df1[df1['Crime_types'].isna()== False]\n",
    "test_df = df1[df1['Crime_types'].isna()== False]\n",
    "\n",
    "test_df.drop('Crime_types', axis=1, inplace=True)\n",
    "print(test_df.shape, train_df.shape)"
   ]
  },
  {
   "cell_type": "code",
   "execution_count": 46,
   "id": "3cddace3",
   "metadata": {},
   "outputs": [],
   "source": [
    "X = train_df.drop('Crime_types', axis=1)\n",
    "y = train_df['Crime_types'].astype(int)"
   ]
  },
  {
   "cell_type": "code",
   "execution_count": null,
   "id": "f10f506e",
   "metadata": {},
   "outputs": [],
   "source": []
  },
  {
   "cell_type": "code",
   "execution_count": 48,
   "id": "d4a8dba6",
   "metadata": {},
   "outputs": [
    {
     "name": "stdout",
     "output_type": "stream",
     "text": [
      "(2616, 21)\n",
      "(2616,)\n",
      "(654, 21)\n",
      "(654,)\n"
     ]
    }
   ],
   "source": [
    "X_train, X_test, y_train, y_test = train_test_split(X, y, test_size=0.2, random_state=42)\n",
    "\n",
    "print(X_train.shape)\n",
    "print(y_train.shape)\n",
    "print(X_test.shape)\n",
    "print(y_test.shape)"
   ]
  },
  {
   "cell_type": "code",
   "execution_count": 49,
   "id": "6ca54f7f",
   "metadata": {},
   "outputs": [],
   "source": [
    "from sklearn.preprocessing import MinMaxScaler\n",
    "minmax = MinMaxScaler()"
   ]
  },
  {
   "cell_type": "code",
   "execution_count": 50,
   "id": "84876346",
   "metadata": {},
   "outputs": [],
   "source": [
    "X_train = minmax.fit_transform(X_train)"
   ]
  },
  {
   "cell_type": "code",
   "execution_count": 51,
   "id": "16dbfcde",
   "metadata": {},
   "outputs": [
    {
     "name": "stdout",
     "output_type": "stream",
     "text": [
      "(2616, 21)\n"
     ]
    }
   ],
   "source": [
    "print(X_train.shape)"
   ]
  },
  {
   "cell_type": "code",
   "execution_count": null,
   "id": "1d7e88d0",
   "metadata": {},
   "outputs": [],
   "source": []
  },
  {
   "cell_type": "code",
   "execution_count": 52,
   "id": "f2d14dce",
   "metadata": {},
   "outputs": [
    {
     "data": {
      "text/plain": [
       "RandomForestClassifier(class_weight={0: 3.0, 1: 2.0, 2: 1.0, 3: 1.5, 4: 2.5,\n",
       "                                     5: 1.0, 6: 2.0, 7: 3.5, 8: 2.0, 9: 2.5})"
      ]
     },
     "execution_count": 52,
     "metadata": {},
     "output_type": "execute_result"
    }
   ],
   "source": [
    "from sklearn.ensemble import RandomForestClassifier\n",
    "weights = {0: 3.0, 1: 2.0, 2: 1.0, 3: 1.5, 4: 2.5, 5: 1.0, 6: 2.0, 7: 3.5, 8: 2.0, 9: 2.5}\n",
    "m1 = RandomForestClassifier(n_estimators=100,class_weight = weights)\n",
    "\n",
    "m1.fit(X_train, y_train)"
   ]
  },
  {
   "cell_type": "code",
   "execution_count": 53,
   "id": "938e6836",
   "metadata": {},
   "outputs": [],
   "source": [
    "# make predictions\n",
    "y_pred = m1.predict(X_test)"
   ]
  },
  {
   "cell_type": "code",
   "execution_count": null,
   "id": "8eddebfe",
   "metadata": {},
   "outputs": [],
   "source": [
    "# evaluate model performance\n",
    "from sklearn.metrics import accuracy_score, classification_report, roc_curve, auc, roc_auc_score, f1_score\n",
    "accuracy = accuracy_score(y_test, y_pred)\n",
    "report = classification_report(y_test, y_pred)\n",
    "print(f\"Accuracy: {accuracy}\")\n",
    "print(f\"Classification Report:\\n{report}\")"
   ]
  },
  {
   "cell_type": "code",
   "execution_count": 56,
   "id": "e7d20ba2",
   "metadata": {},
   "outputs": [
    {
     "data": {
      "image/png": "[encoded data removed]",
      "text/plain": [
       "<Figure size 432x288 with 1 Axes>"
      ]
     },
     "metadata": {
      "needs_background": "light"
     },
     "output_type": "display_data"
    }
   ],
   "source": [
    "\n",
    "from sklearn.preprocessing import label_binarize\n",
    "\n",
    "# Fit the classifier\n",
    "m1.fit(X_train, y_train)\n",
    "\n",
    "# Predict probabilities on the test set\n",
    "y_score = m1.predict_proba(X_test)\n",
    "\n",
    "# Binarize the labels\n",
    "y_test_bin = label_binarize(y_test, classes=m1.classes_)\n",
    "\n",
    "# Compute the FPR, TPR, and thresholds for each class\n",
    "fpr = dict()\n",
    "tpr = dict()\n",
    "roc_auc = dict()\n",
    "for i in range(len(m1.classes_)):\n",
    "    fpr[i], tpr[i], thresholds = roc_curve(y_test_bin[:, i], y_score[:, i])\n",
    "    roc_auc[i] = auc(fpr[i], tpr[i])\n",
    "\n",
    "# Compute the macro-average AUC score\n",
    "fpr_macro, tpr_macro, _ = roc_curve(y_test_bin.ravel(), y_score.ravel())\n",
    "roc_auc_macro = auc(fpr_macro, tpr_macro)\n",
    "\n",
    "# Plot the ROC curve for each class\n",
    "plt.figure()\n",
    "plt.plot([0, 1], [0, 1], 'k--')\n",
    "for i in range(len(m1.classes_)):\n",
    "    plt.plot(fpr[i], tpr[i], label='Class {}: AUC = {:.2f}'.format(i, roc_auc[i]))\n",
    "plt.plot(fpr_macro, tpr_macro, label='Macro-average AUC = {:.2f}'.format(roc_auc_macro), color='navy', linewidth=2)\n",
    "plt.xlabel('False Positive Rate')\n",
    "plt.ylabel('True Positive Rate')\n",
    "plt.title('Receiver Operating Characteristic Curve')\n",
    "plt.legend(loc=\"lower right\")\n",
    "plt.show()\n"
   ]
  },
  {
   "cell_type": "code",
   "execution_count": null,
   "id": "35441ede",
   "metadata": {},
   "outputs": [],
   "source": []
  },
  {
   "cell_type": "code",
   "execution_count": null,
   "id": "0ce103e5",
   "metadata": {},
   "outputs": [],
   "source": []
  },
  {
   "cell_type": "code",
   "execution_count": 57,
   "id": "3299bc27",
   "metadata": {},
   "outputs": [
    {
     "data": {
      "image/png": "[encoded data removed]",
      "text/plain": [
       "<Figure size 1008x576 with 1 Axes>"
      ]
     },
     "metadata": {
      "needs_background": "light"
     },
     "output_type": "display_data"
    }
   ],
   "source": [
    "importance = m1.feature_importances_\n",
    "col_sorted_by_importance=importance.argsort()\n",
    "\n",
    "# Passing the sorted feature importance into a dataframe\n",
    "feat_imp3=pd.DataFrame({\n",
    "    'cols':test_df.columns[col_sorted_by_importance],\n",
    "    'imps':importance[col_sorted_by_importance]\n",
    "})\n",
    "\n",
    "# plot feature importance\n",
    "plt.figure(figsize=(14,8))\n",
    "sns.set_style(\"darkgrid\")\n",
    "plt.bar(x='cols', height='imps',data=feat_imp3)\n",
    "plt.ylabel('Feature importance')\n",
    "plt.xlabel('Features')\n",
    "plt.xticks(rotation=50)\n",
    "plt.tight_layout()"
   ]
  },
  {
   "cell_type": "code",
   "execution_count": 58,
   "id": "022064e3",
   "metadata": {},
   "outputs": [
    {
     "name": "stdout",
     "output_type": "stream",
     "text": [
      "Accuracy: 0.1651376146788991\n",
      "Classification Report:\n",
      "              precision    recall  f1-score   support\n",
      "\n",
      "           0       0.00      0.00      0.00        59\n",
      "           1       0.00      0.00      0.00        62\n",
      "           2       0.00      0.00      0.00        67\n",
      "           3       0.00      0.00      0.00        50\n",
      "           4       0.00      0.00      0.00        66\n",
      "           5       0.00      0.00      0.00        71\n",
      "           6       0.14      0.87      0.24        79\n",
      "           7       1.00      0.03      0.06        66\n",
      "           8       0.25      0.50      0.33        74\n",
      "           9       0.00      0.00      0.00        60\n",
      "\n",
      "    accuracy                           0.17       654\n",
      "   macro avg       0.14      0.14      0.06       654\n",
      "weighted avg       0.15      0.17      0.07       654\n",
      "\n"
     ]
    }
   ],
   "source": [
    "from sklearn.neighbors import KNeighborsClassifier\n",
    "\n",
    "m2 = KNeighborsClassifier(n_neighbors=10)\n",
    "m2.fit(X_train, y_train)\n",
    "\n",
    "# make predictions\n",
    "y_pred = m2.predict(X_test)\n",
    "\n",
    "# evaluate model performance\n",
    "\n",
    "accuracy = accuracy_score(y_test, y_pred)\n",
    "report = classification_report(y_test, y_pred)\n",
    "print(f\"Accuracy: {accuracy}\")\n",
    "print(f\"Classification Report:\\n{report}\")\n"
   ]
  },
  {
   "cell_type": "code",
   "execution_count": 59,
   "id": "929b1aad",
   "metadata": {},
   "outputs": [
    {
     "name": "stdout",
     "output_type": "stream",
     "text": [
      "Accuracy: 0.09021406727828746\n",
      "Classification Report:\n",
      "              precision    recall  f1-score   support\n",
      "\n",
      "           0       0.09      1.00      0.17        59\n",
      "           1       0.00      0.00      0.00        62\n",
      "           2       0.00      0.00      0.00        67\n",
      "           3       0.00      0.00      0.00        50\n",
      "           4       0.00      0.00      0.00        66\n",
      "           5       0.00      0.00      0.00        71\n",
      "           6       0.00      0.00      0.00        79\n",
      "           7       0.00      0.00      0.00        66\n",
      "           8       0.00      0.00      0.00        74\n",
      "           9       0.00      0.00      0.00        60\n",
      "\n",
      "    accuracy                           0.09       654\n",
      "   macro avg       0.01      0.10      0.02       654\n",
      "weighted avg       0.01      0.09      0.01       654\n",
      "\n"
     ]
    }
   ],
   "source": [
    "# Fitting SVM to the Training set\n",
    "from sklearn.svm import SVC\n",
    "m3 = SVC(C=1.0, cache_size=200, class_weight=None, coef0=0.0,\n",
    "  decision_function_shape='ovr', degree=3, gamma='auto', kernel='rbf',\n",
    "  max_iter=-1, probability=False, random_state=0, shrinking=True,\n",
    "  tol=0.001, verbose=False)\n",
    "m3.fit(X_train, y_train)\n",
    "\n",
    "y_pred = m3.predict(X_test)\n",
    "\n",
    "# evaluate model performance\n",
    "\n",
    "accuracy = accuracy_score(y_test, y_pred)\n",
    "report = classification_report(y_test, y_pred)\n",
    "print(f\"Accuracy: {accuracy}\")\n",
    "print(f\"Classification Report:\\n{report}\")\n"
   ]
  },
  {
   "cell_type": "code",
   "execution_count": 60,
   "id": "e1169d5b",
   "metadata": {},
   "outputs": [],
   "source": [
    "from xgboost import XGBClassifier\n",
    "from collections import Counter"
   ]
  },
  {
   "cell_type": "code",
   "execution_count": null,
   "id": "d49d8d52",
   "metadata": {},
   "outputs": [],
   "source": []
  },
  {
   "cell_type": "code",
   "execution_count": 61,
   "id": "1edbd0e7",
   "metadata": {
    "scrolled": true
   },
   "outputs": [
    {
     "name": "stdout",
     "output_type": "stream",
     "text": [
      "[01:40:52] WARNING: C:/Users/Administrator/workspace/xgboost-win64_release_1.6.0/src/learner.cc:627: \n",
      "Parameters: { \"metrics\", \"scale_pos_weight\", \"silent\" } might not be used.\n",
      "\n",
      "  This could be a false alarm, with some parameters getting used by language bindings but\n",
      "  then being mistakenly passed down to XGBoost core, or some parameter actually being used\n",
      "  but getting flagged wrongly here. Please open an issue if you find any such cases.\n",
      "\n",
      "\n",
      "[01:40:57] WARNING: C:/Users/Administrator/workspace/xgboost-win64_release_1.6.0/src/learner.cc:627: \n",
      "Parameters: { \"metrics\", \"scale_pos_weight\", \"silent\" } might not be used.\n",
      "\n",
      "  This could be a false alarm, with some parameters getting used by language bindings but\n",
      "  then being mistakenly passed down to XGBoost core, or some parameter actually being used\n",
      "  but getting flagged wrongly here. Please open an issue if you find any such cases.\n",
      "\n",
      "\n",
      "[01:41:02] WARNING: C:/Users/Administrator/workspace/xgboost-win64_release_1.6.0/src/learner.cc:627: \n",
      "Parameters: { \"metrics\", \"scale_pos_weight\", \"silent\" } might not be used.\n",
      "\n",
      "  This could be a false alarm, with some parameters getting used by language bindings but\n",
      "  then being mistakenly passed down to XGBoost core, or some parameter actually being used\n",
      "  but getting flagged wrongly here. Please open an issue if you find any such cases.\n",
      "\n",
      "\n",
      "[01:41:06] WARNING: C:/Users/Administrator/workspace/xgboost-win64_release_1.6.0/src/learner.cc:627: \n",
      "Parameters: { \"metrics\", \"scale_pos_weight\", \"silent\" } might not be used.\n",
      "\n",
      "  This could be a false alarm, with some parameters getting used by language bindings but\n",
      "  then being mistakenly passed down to XGBoost core, or some parameter actually being used\n",
      "  but getting flagged wrongly here. Please open an issue if you find any such cases.\n",
      "\n",
      "\n",
      "[01:41:10] WARNING: C:/Users/Administrator/workspace/xgboost-win64_release_1.6.0/src/learner.cc:627: \n",
      "Parameters: { \"metrics\", \"scale_pos_weight\", \"silent\" } might not be used.\n",
      "\n",
      "  This could be a false alarm, with some parameters getting used by language bindings but\n",
      "  then being mistakenly passed down to XGBoost core, or some parameter actually being used\n",
      "  but getting flagged wrongly here. Please open an issue if you find any such cases.\n",
      "\n",
      "\n",
      "[01:41:14] WARNING: C:/Users/Administrator/workspace/xgboost-win64_release_1.6.0/src/learner.cc:627: \n",
      "Parameters: { \"metrics\", \"scale_pos_weight\", \"silent\" } might not be used.\n",
      "\n",
      "  This could be a false alarm, with some parameters getting used by language bindings but\n",
      "  then being mistakenly passed down to XGBoost core, or some parameter actually being used\n",
      "  but getting flagged wrongly here. Please open an issue if you find any such cases.\n",
      "\n",
      "\n",
      "Cross-validation scores: [1. 1. 1. 1. 1.]\n",
      "Average score: 1.0\n"
     ]
    }
   ],
   "source": [
    "m4=XGBClassifier(scale_pos_weight=8.1922929, max_depth=10, learning_rate=0.143242, n_estimators=800, silent=True, metrics='auc',colsample_bylevel=0.8, reg_alpha=0.8)\n",
    "m4.fit(X_train,y_train)\n",
    "\n",
    "from sklearn.model_selection import cross_val_score\n",
    "\n",
    "scores = cross_val_score(m4, X_train, y_train, cv=5, scoring='accuracy')\n",
    "\n",
    "print('Cross-validation scores:', scores)\n",
    "print('Average score:', scores.mean())"
   ]
  },
  {
   "cell_type": "code",
   "execution_count": 62,
   "id": "5c160c6c",
   "metadata": {},
   "outputs": [
    {
     "name": "stdout",
     "output_type": "stream",
     "text": [
      "Accuracy: 1.0\n",
      "Classification Report:\n",
      "              precision    recall  f1-score   support\n",
      "\n",
      "           0       1.00      1.00      1.00        59\n",
      "           1       1.00      1.00      1.00        62\n",
      "           2       1.00      1.00      1.00        67\n",
      "           3       1.00      1.00      1.00        50\n",
      "           4       1.00      1.00      1.00        66\n",
      "           5       1.00      1.00      1.00        71\n",
      "           6       1.00      1.00      1.00        79\n",
      "           7       1.00      1.00      1.00        66\n",
      "           8       1.00      1.00      1.00        74\n",
      "           9       1.00      1.00      1.00        60\n",
      "\n",
      "    accuracy                           1.00       654\n",
      "   macro avg       1.00      1.00      1.00       654\n",
      "weighted avg       1.00      1.00      1.00       654\n",
      "\n"
     ]
    }
   ],
   "source": [
    "y_pred = m4.predict(X_test)\n",
    "\n",
    "accuracy = accuracy_score(y_test, y_pred)\n",
    "report = classification_report(y_test, y_pred)\n",
    "print(f\"Accuracy: {accuracy}\")\n",
    "print(f\"Classification Report:\\n{report}\")"
   ]
  },
  {
   "cell_type": "code",
   "execution_count": 63,
   "id": "ea0cfc2b",
   "metadata": {},
   "outputs": [
    {
     "data": {
      "image/png": "[encoded data removed]",
      "text/plain": [
       "<Figure size 1008x576 with 1 Axes>"
      ]
     },
     "metadata": {},
     "output_type": "display_data"
    }
   ],
   "source": [
    "importance = m4.feature_importances_\n",
    "col_sorted_by_importance=importance.argsort()\n",
    "\n",
    "# Passing the sorted feature importance into a dataframe\n",
    "feat_imp3=pd.DataFrame({\n",
    "    'cols':test_df.columns[col_sorted_by_importance],\n",
    "    'imps':importance[col_sorted_by_importance]\n",
    "})\n",
    "\n",
    "# plot feature importance\n",
    "plt.figure(figsize=(14,8))\n",
    "sns.set_style(\"darkgrid\")\n",
    "plt.bar(x='cols', height='imps',data=feat_imp3)\n",
    "plt.ylabel('Feature importance')\n",
    "plt.xlabel('Features')\n",
    "plt.xticks(rotation=50)\n",
    "plt.tight_layout()"
   ]
  },
  {
   "cell_type": "code",
   "execution_count": 64,
   "id": "a68fc50f",
   "metadata": {},
   "outputs": [
    {
     "name": "stdout",
     "output_type": "stream",
     "text": [
      "Macro-average AUC score: 1.0\n"
     ]
    }
   ],
   "source": [
    "m6 = RandomForestClassifier(n_estimators=100, class_weight = weights,max_depth=10)\n",
    "m6.fit(X_train, y_train)\n",
    "\n",
    "# predict on test set\n",
    "y_pred = m6.predict_proba(X_test)\n",
    "\n",
    "# calculate macro-average AUC score\n",
    "auc_scores = roc_auc_score(y_test, y_pred, multi_class='ovo')\n",
    "macro_auc = np.mean(auc_scores)\n",
    "\n",
    "print(\"Macro-average AUC score:\", macro_auc)\n"
   ]
  },
  {
   "cell_type": "code",
   "execution_count": null,
   "id": "5a5de40e",
   "metadata": {},
   "outputs": [],
   "source": []
  },
  {
   "cell_type": "code",
   "execution_count": null,
   "id": "71a61401",
   "metadata": {},
   "outputs": [],
   "source": []
  },
  {
   "cell_type": "code",
   "execution_count": null,
   "id": "26b4077d",
   "metadata": {},
   "outputs": [],
   "source": []
  },
  {
   "cell_type": "code",
   "execution_count": null,
   "id": "92fb4459",
   "metadata": {},
   "outputs": [],
   "source": []
  },
  {
   "cell_type": "code",
   "execution_count": 65,
   "id": "3b684845",
   "metadata": {},
   "outputs": [
    {
     "data": {
      "image/png": "[encoded data removed]",
      "text/plain": [
       "<Figure size 432x288 with 1 Axes>"
      ]
     },
     "metadata": {},
     "output_type": "display_data"
    }
   ],
   "source": [
    "# predict on test set and calculate AUC scores for each class\n",
    "y_pred = m6.predict_proba(X_test)\n",
    "auc_scores = roc_auc_score(y_test, y_pred, multi_class='ovo')\n",
    "\n",
    "# plot AUC scores for each class\n",
    "num_classes = len(m6.classes_)\n",
    "classes = np.arange(num_classes)\n",
    "plt.bar(classes, auc_scores)\n",
    "plt.xticks(classes)\n",
    "plt.xlabel('Class')\n",
    "plt.ylabel('AUC Score')\n",
    "plt.title('AUC Scores by Class')\n",
    "plt.show()\n"
   ]
  },
  {
   "cell_type": "code",
   "execution_count": 66,
   "id": "1c69a4b3",
   "metadata": {},
   "outputs": [
    {
     "data": {
      "image/png": "[encoded data removed]",
      "text/plain": [
       "<Figure size 432x288 with 1 Axes>"
      ]
     },
     "metadata": {},
     "output_type": "display_data"
    }
   ],
   "source": [
    "import numpy as np\n",
    "\n",
    "from sklearn.preprocessing import label_binarize\n",
    "\n",
    "# Fit the classifier\n",
    "m6.fit(X_train, y_train)\n",
    "\n",
    "# Predict probabilities on the test set\n",
    "y_score = m6.predict_proba(X_test)\n",
    "\n",
    "# Binarize the labels (if not already done)\n",
    "y_test_bin = label_binarize(y_test, classes=m6.classes_)\n",
    "\n",
    "# Compute the FPR, TPR, and thresholds for each class\n",
    "fpr = dict()\n",
    "tpr = dict()\n",
    "roc_auc = dict()\n",
    "for i in range(len(m6.classes_)):\n",
    "    fpr[i], tpr[i], thresholds = roc_curve(y_test_bin[:, i], y_score[:, i])\n",
    "    roc_auc[i] = auc(fpr[i], tpr[i])\n",
    "\n",
    "# Compute the macro-average AUC score\n",
    "fpr_macro, tpr_macro, _ = roc_curve(y_test_bin.ravel(), y_score.ravel())\n",
    "roc_auc_macro = auc(fpr_macro, tpr_macro)\n",
    "\n",
    "# Plot the ROC curve for each class\n",
    "plt.figure()\n",
    "plt.plot([0, 1], [0, 1], 'k--')\n",
    "for i in range(len(m6.classes_)):\n",
    "    plt.plot(fpr[i], tpr[i], label='Class {}: AUC = {:.2f}'.format(i, roc_auc[i]))\n",
    "plt.plot(fpr_macro, tpr_macro, label='Macro-average AUC = {:.2f}'.format(roc_auc_macro), color='navy', linewidth=2)\n",
    "plt.xlabel('False Positive Rate')\n",
    "plt.ylabel('True Positive Rate')\n",
    "plt.title('Receiver Operating Characteristic Curve')\n",
    "plt.legend(loc=\"lower right\")\n",
    "plt.show()\n"
   ]
  },
  {
   "cell_type": "code",
   "execution_count": 67,
   "id": "df930ae1",
   "metadata": {},
   "outputs": [
    {
     "name": "stdout",
     "output_type": "stream",
     "text": [
      "Accuracy: 0.9770642201834863\n",
      "Classification Report:\n",
      "              precision    recall  f1-score   support\n",
      "\n",
      "           0       1.00      1.00      1.00        59\n",
      "           1       1.00      1.00      1.00        62\n",
      "           2       1.00      1.00      1.00        67\n",
      "           3       1.00      1.00      1.00        50\n",
      "           4       1.00      1.00      1.00        66\n",
      "           5       1.00      0.79      0.88        71\n",
      "           6       1.00      1.00      1.00        79\n",
      "           7       0.81      1.00      0.90        66\n",
      "           8       1.00      1.00      1.00        74\n",
      "           9       1.00      1.00      1.00        60\n",
      "\n",
      "    accuracy                           0.98       654\n",
      "   macro avg       0.98      0.98      0.98       654\n",
      "weighted avg       0.98      0.98      0.98       654\n",
      "\n"
     ]
    }
   ],
   "source": [
    "y_pred = m6.predict(X_test)\n",
    "\n",
    "accuracy = accuracy_score(y_test, y_pred)\n",
    "report = classification_report(y_test, y_pred)\n",
    "print(f\"Accuracy: {accuracy}\")\n",
    "print(f\"Classification Report:\\n{report}\")"
   ]
  },
  {
   "cell_type": "code",
   "execution_count": null,
   "id": "3e02788a",
   "metadata": {},
   "outputs": [],
   "source": []
  },
  {
   "cell_type": "code",
   "execution_count": 68,
   "id": "6d1483ed",
   "metadata": {},
   "outputs": [
    {
     "data": {
      "text/plain": [
       "array([[59,  0,  0,  0,  0,  0,  0,  0,  0,  0],\n",
       "       [ 0, 62,  0,  0,  0,  0,  0,  0,  0,  0],\n",
       "       [ 0,  0, 67,  0,  0,  0,  0,  0,  0,  0],\n",
       "       [ 0,  0,  0, 50,  0,  0,  0,  0,  0,  0],\n",
       "       [ 0,  0,  0,  0, 66,  0,  0,  0,  0,  0],\n",
       "       [ 0,  0,  0,  0,  0, 50,  0,  0,  0, 21],\n",
       "       [ 0,  0,  0,  0,  0,  0, 79,  0,  0,  0],\n",
       "       [ 0,  0,  0,  0,  0,  0,  0, 66,  0,  0],\n",
       "       [ 0,  0,  0,  0,  0,  0,  0,  0, 74,  0],\n",
       "       [ 0,  0,  0,  0,  0,  0,  0,  0,  0, 60]], dtype=int64)"
      ]
     },
     "execution_count": 68,
     "metadata": {},
     "output_type": "execute_result"
    }
   ],
   "source": [
    "from sklearn.metrics import confusion_matrix, ConfusionMatrixDisplay\n",
    "\n",
    "# Fit the classifier\n",
    "m4.fit(X_train, y_train)\n",
    "\n",
    "# Predict on the test set\n",
    "y_pred = m4.predict(X_test)\n",
    "\n",
    "# Compute the confusion matrix\n",
    "cm = confusion_matrix(y_test, y_pred, labels=m4.classes_)\n",
    "cm\n"
   ]
  },
  {
   "cell_type": "code",
   "execution_count": 74,
   "id": "37e6bb05",
   "metadata": {},
   "outputs": [],
   "source": [
    "test_data = minmax.fit_transform(test_df)"
   ]
  },
  {
   "cell_type": "code",
   "execution_count": 75,
   "id": "2546b14a",
   "metadata": {},
   "outputs": [
    {
     "data": {
      "text/plain": [
       "array([6, 8, 8, ..., 9, 9, 9], dtype=int64)"
      ]
     },
     "execution_count": 75,
     "metadata": {},
     "output_type": "execute_result"
    }
   ],
   "source": [
    "prediction = m4.predict(test_data)\n",
    "prediction"
   ]
  },
  {
   "cell_type": "code",
   "execution_count": 84,
   "id": "9139e346",
   "metadata": {},
   "outputs": [
    {
     "data": {
      "text/plain": [
       "array(['Fire Outbreak', 'Robbery', 'Robbery', ..., 'Suicide', 'Suicide',\n",
       "       'Suicide'], dtype=object)"
      ]
     },
     "execution_count": 84,
     "metadata": {},
     "output_type": "execute_result"
    }
   ],
   "source": [
    "target = le.inverse_transform(prediction)\n",
    "target"
   ]
  },
  {
   "cell_type": "code",
   "execution_count": 77,
   "id": "39ba99b3",
   "metadata": {},
   "outputs": [
    {
     "name": "stdout",
     "output_type": "stream",
     "text": [
      "['Fire Outbreak' 'Robbery' 'Robbery' ... 'Suicide' 'Suicide' 'Suicide']\n"
     ]
    }
   ],
   "source": [
    "pd.set_option('display.max_rows', None)\n",
    "pd.set_option('display.max_columns', None)\n",
    "print(target)"
   ]
  },
  {
   "cell_type": "code",
   "execution_count": null,
   "id": "99a98ccc",
   "metadata": {},
   "outputs": [],
   "source": []
  },
  {
   "cell_type": "code",
   "execution_count": 78,
   "id": "f560ee4c",
   "metadata": {},
   "outputs": [],
   "source": [
    "\n",
    "# Convert the predicted target to a dataframe\n",
    "pred_df = pd.DataFrame(target, columns=['Prediction'])\n",
    "\n",
    "# Save the dataframe to a CSV file\n",
    "pred_df.to_csv('predictions.csv', index=False)\n"
   ]
  },
  {
   "cell_type": "code",
   "execution_count": 80,
   "id": "41727d6a",
   "metadata": {},
   "outputs": [
    {
     "name": "stdout",
     "output_type": "stream",
     "text": [
      "[01:41:22] WARNING: C:/Users/Administrator/workspace/xgboost-win64_release_1.6.0/src/learner.cc:627: \n",
      "Parameters: { \"metrics\", \"scale_pos_weight\", \"silent\" } might not be used.\n",
      "\n",
      "  This could be a false alarm, with some parameters getting used by language bindings but\n",
      "  then being mistakenly passed down to XGBoost core, or some parameter actually being used\n",
      "  but getting flagged wrongly here. Please open an issue if you find any such cases.\n",
      "\n",
      "\n"
     ]
    },
    {
     "data": {
      "image/png": "[encoded data removed]",
      "text/plain": [
       "<Figure size 432x288 with 2 Axes>"
      ]
     },
     "metadata": {},
     "output_type": "display_data"
    }
   ],
   "source": [
    "\n",
    "\n",
    "# Fit the classifier\n",
    "m4.fit(X_train, y_train)\n",
    "\n",
    "# Predict on the test set\n",
    "y_pred = m4.predict(X_test)\n",
    "\n",
    "# Compute the confusion matrix\n",
    "cm = confusion_matrix(y_test, y_pred, labels=m4.classes_)\n",
    "\n",
    "# Plot the confusion matrix\n",
    "disp = ConfusionMatrixDisplay(confusion_matrix=cm, display_labels=m4.classes_)\n",
    "disp.plot()\n",
    "plt.title('Confusion Matrix')\n",
    "plt.show()\n"
   ]
  },
  {
   "cell_type": "code",
   "execution_count": 82,
   "id": "f6b4881a",
   "metadata": {},
   "outputs": [
    {
     "data": {
      "image/png": "[encoded data removed]",
      "text/plain": [
       "<Figure size 576x432 with 1 Axes>"
      ]
     },
     "metadata": {},
     "output_type": "display_data"
    }
   ],
   "source": [
    "\n",
    "\n",
    "# Binarize the labels (if not already done)\n",
    "y_test_bin = label_binarize(y_test, classes=m4.classes_)\n",
    "\n",
    "# Compute the FPR, TPR, and thresholds for each class\n",
    "fpr = dict()\n",
    "tpr = dict()\n",
    "roc_auc = dict()\n",
    "for i in range(len(m4.classes_)):\n",
    "    fpr[i], tpr[i], thresholds = roc_curve(y_test_bin[:, i], y_score[:, i])\n",
    "    roc_auc[i] = auc(fpr[i], tpr[i])\n",
    "\n",
    "# Compute the macro-average AUC score\n",
    "fpr_macro, tpr_macro, _ = roc_curve(y_test_bin.ravel(), y_score.ravel())\n",
    "roc_auc_macro = auc(fpr_macro, tpr_macro)\n",
    "\n",
    "# Plot the ROC curve for each class\n",
    "plt.figure(figsize=(8, 6))\n",
    "plt.plot([0, 1], [0, 1], 'k--')\n",
    "for i in range(len(m4.classes_)):\n",
    "    plt.plot(fpr[i], tpr[i], label='Class {}: AUC = {:.2f}'.format(i, roc_auc[i]))\n",
    "plt.plot(fpr_macro, tpr_macro, label='Macro-average AUC = {:.2f}'.format(roc_auc_macro), color='navy', linewidth=2)\n",
    "plt.xlabel('False Positive Rate')\n",
    "plt.ylabel('True Positive Rate')\n",
    "plt.title('Receiver Operating Characteristic Curve')\n",
    "plt.legend(loc=\"lower right\")\n",
    "plt.show()\n",
    "\n"
   ]
  },
  {
   "cell_type": "code",
   "execution_count": null,
   "id": "d6b24adc",
   "metadata": {},
   "outputs": [],
   "source": []
  }
 ],
 "metadata": {
  "kernelspec": {
   "display_name": "Python 3 (ipykernel)",
   "language": "python",
   "name": "python3"
  },
  "language_info": {
   "codemirror_mode": {
    "name": "ipython",
    "version": 3
   },
   "file_extension": ".py",
   "mimetype": "text/x-python",
   "name": "python",
   "nbconvert_exporter": "python",
   "pygments_lexer": "ipython3",
   "version": "3.11.5"
  }
 },
 "nbformat": 4,
 "nbformat_minor": 5
}
